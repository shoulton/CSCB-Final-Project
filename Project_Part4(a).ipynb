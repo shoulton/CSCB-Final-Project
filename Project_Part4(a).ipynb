{
 "cells": [
  {
   "cell_type": "code",
   "execution_count": 2,
   "metadata": {
    "colab": {
     "base_uri": "https://localhost:8080/"
    },
    "id": "nEoGsJMJgoKx",
    "outputId": "8daa6f7a-9192-45d1-fa59-fdb39748d5d0"
   },
   "outputs": [
    {
     "name": "stdout",
     "output_type": "stream",
     "text": [
      "Requirement already satisfied: pandas in /usr/local/lib/python3.7/dist-packages (1.3.5)\n",
      "Requirement already satisfied: numpy in /usr/local/lib/python3.7/dist-packages (1.21.6)\n",
      "Requirement already satisfied: sklearn in /usr/local/lib/python3.7/dist-packages (0.0)\n",
      "Requirement already satisfied: scanpy in /usr/local/lib/python3.7/dist-packages (1.9.1)\n",
      "Requirement already satisfied: statsmodels in /usr/local/lib/python3.7/dist-packages (0.10.2)\n",
      "Requirement already satisfied: scipy in /usr/local/lib/python3.7/dist-packages (1.4.1)\n",
      "Requirement already satisfied: matplotlib in /usr/local/lib/python3.7/dist-packages (3.5.1)\n",
      "Requirement already satisfied: seaborn in /usr/local/lib/python3.7/dist-packages (0.11.2)\n",
      "Requirement already satisfied: umap-learn in /usr/local/lib/python3.7/dist-packages (0.5.3)\n",
      "Requirement already satisfied: pytz>=2017.3 in /usr/local/lib/python3.7/dist-packages (from pandas) (2022.1)\n",
      "Requirement already satisfied: python-dateutil>=2.7.3 in /usr/local/lib/python3.7/dist-packages (from pandas) (2.8.2)\n",
      "Requirement already satisfied: six>=1.5 in /usr/local/lib/python3.7/dist-packages (from python-dateutil>=2.7.3->pandas) (1.15.0)\n",
      "Requirement already satisfied: scikit-learn in /usr/local/lib/python3.7/dist-packages (from sklearn) (1.0.2)\n",
      "Requirement already satisfied: importlib_metadata>=0.7 in /usr/local/lib/python3.7/dist-packages (from scanpy) (4.11.3)\n",
      "Requirement already satisfied: h5py>=3 in /usr/local/lib/python3.7/dist-packages (from scanpy) (3.1.0)\n",
      "Requirement already satisfied: natsort in /usr/local/lib/python3.7/dist-packages (from scanpy) (5.5.0)\n",
      "Requirement already satisfied: numba>=0.41.0 in /usr/local/lib/python3.7/dist-packages (from scanpy) (0.51.2)\n",
      "Requirement already satisfied: session-info in /usr/local/lib/python3.7/dist-packages (from scanpy) (1.0.0)\n",
      "Requirement already satisfied: packaging in /usr/local/lib/python3.7/dist-packages (from scanpy) (21.3)\n",
      "Requirement already satisfied: tqdm in /usr/local/lib/python3.7/dist-packages (from scanpy) (4.64.0)\n",
      "Requirement already satisfied: patsy in /usr/local/lib/python3.7/dist-packages (from scanpy) (0.5.2)\n",
      "Requirement already satisfied: joblib in /usr/local/lib/python3.7/dist-packages (from scanpy) (1.1.0)\n",
      "Requirement already satisfied: anndata>=0.7.4 in /usr/local/lib/python3.7/dist-packages (from scanpy) (0.8.0)\n",
      "Requirement already satisfied: networkx>=2.3 in /usr/local/lib/python3.7/dist-packages (from scanpy) (2.6.3)\n",
      "Requirement already satisfied: kiwisolver>=1.0.1 in /usr/local/lib/python3.7/dist-packages (from matplotlib) (1.4.2)\n",
      "Requirement already satisfied: pyparsing>=2.2.1 in /usr/local/lib/python3.7/dist-packages (from matplotlib) (3.0.8)\n",
      "Requirement already satisfied: fonttools>=4.22.0 in /usr/local/lib/python3.7/dist-packages (from matplotlib) (4.33.2)\n",
      "Requirement already satisfied: pillow>=6.2.0 in /usr/local/lib/python3.7/dist-packages (from matplotlib) (7.1.2)\n",
      "Requirement already satisfied: cycler>=0.10 in /usr/local/lib/python3.7/dist-packages (from matplotlib) (0.11.0)\n",
      "Requirement already satisfied: pynndescent>=0.5 in /usr/local/lib/python3.7/dist-packages (from umap-learn) (0.5.6)\n",
      "Requirement already satisfied: typing_extensions in /usr/local/lib/python3.7/dist-packages (from anndata>=0.7.4->scanpy) (4.1.1)\n",
      "Requirement already satisfied: cached-property in /usr/local/lib/python3.7/dist-packages (from h5py>=3->scanpy) (1.5.2)\n",
      "Requirement already satisfied: zipp>=0.5 in /usr/local/lib/python3.7/dist-packages (from importlib_metadata>=0.7->scanpy) (3.8.0)\n",
      "Requirement already satisfied: setuptools in /usr/local/lib/python3.7/dist-packages (from numba>=0.41.0->scanpy) (57.4.0)\n",
      "Requirement already satisfied: llvmlite<0.35,>=0.34.0.dev0 in /usr/local/lib/python3.7/dist-packages (from numba>=0.41.0->scanpy) (0.34.0)\n",
      "Requirement already satisfied: threadpoolctl>=2.0.0 in /usr/local/lib/python3.7/dist-packages (from scikit-learn->sklearn) (3.1.0)\n",
      "Requirement already satisfied: stdlib-list in /usr/local/lib/python3.7/dist-packages (from session-info->scanpy) (0.8.0)\n"
     ]
    }
   ],
   "source": [
    "pip install pandas numpy sklearn scanpy sklearn statsmodels scipy matplotlib seaborn umap-learn"
   ]
  },
  {
   "cell_type": "code",
   "execution_count": 3,
   "metadata": {
    "colab": {
     "base_uri": "https://localhost:8080/"
    },
    "id": "i4BDpEQVpvzL",
    "outputId": "23650baf-ea77-43ef-a582-44c018a45b1d"
   },
   "outputs": [
    {
     "name": "stdout",
     "output_type": "stream",
     "text": [
      "scanpy==1.9.1 anndata==0.8.0 umap==0.5.3 numpy==1.21.6 scipy==1.4.1 pandas==1.3.5 scikit-learn==1.0.2 statsmodels==0.10.2 pynndescent==0.5.6\n"
     ]
    },
    {
     "name": "stderr",
     "output_type": "stream",
     "text": [
      "/usr/local/lib/python3.7/dist-packages/statsmodels/tools/_testing.py:19: FutureWarning: pandas.util.testing is deprecated. Use the functions in the public API at pandas.testing instead.\n",
      "  import pandas.util.testing as tm\n"
     ]
    }
   ],
   "source": [
    "import pandas as pd\n",
    "import matplotlib\n",
    "import matplotlib.pyplot as plt\n",
    "import seaborn as sns \n",
    "import scanpy as sc\n",
    "import scipy as sp\n",
    "import numpy as np\n",
    "import anndata\n",
    "\n",
    "sc.settings.verbosity = 3 \n",
    "sc.logging.print_header()\n",
    "\n",
    "import pySingleCellNet as pySCN"
   ]
  },
  {
   "cell_type": "code",
   "execution_count": 1,
   "metadata": {
    "colab": {
     "base_uri": "https://localhost:8080/",
     "height": 1000
    },
    "id": "k9pwR2SBgtR2",
    "outputId": "afab75f2-30e4-48bf-bd48-08050f6690e0"
   },
   "outputs": [
    {
     "name": "stdout",
     "output_type": "stream",
     "text": [
      "Collecting git+https://github.com/pcahan1/PySingleCellNet/\n",
      "  Cloning https://github.com/pcahan1/PySingleCellNet/ to /tmp/pip-req-build-xoykz5x5\n",
      "  Running command git clone -q https://github.com/pcahan1/PySingleCellNet/ /tmp/pip-req-build-xoykz5x5\n",
      "Requirement already satisfied: pandas in /usr/local/lib/python3.7/dist-packages (from pySingleCellNet==0.1) (1.3.5)\n",
      "Requirement already satisfied: numpy in /usr/local/lib/python3.7/dist-packages (from pySingleCellNet==0.1) (1.21.6)\n",
      "Requirement already satisfied: sklearn in /usr/local/lib/python3.7/dist-packages (from pySingleCellNet==0.1) (0.0)\n",
      "Collecting scanpy\n",
      "  Downloading scanpy-1.9.1-py3-none-any.whl (2.0 MB)\n",
      "\u001b[K     |████████████████████████████████| 2.0 MB 5.0 MB/s \n",
      "\u001b[?25hRequirement already satisfied: statsmodels in /usr/local/lib/python3.7/dist-packages (from pySingleCellNet==0.1) (0.10.2)\n",
      "Requirement already satisfied: scipy in /usr/local/lib/python3.7/dist-packages (from pySingleCellNet==0.1) (1.4.1)\n",
      "Requirement already satisfied: matplotlib in /usr/local/lib/python3.7/dist-packages (from pySingleCellNet==0.1) (3.2.2)\n",
      "Requirement already satisfied: seaborn in /usr/local/lib/python3.7/dist-packages (from pySingleCellNet==0.1) (0.11.2)\n",
      "Collecting umap-learn\n",
      "  Downloading umap-learn-0.5.3.tar.gz (88 kB)\n",
      "\u001b[K     |████████████████████████████████| 88 kB 7.6 MB/s \n",
      "\u001b[?25hRequirement already satisfied: python-dateutil>=2.1 in /usr/local/lib/python3.7/dist-packages (from matplotlib->pySingleCellNet==0.1) (2.8.2)\n",
      "Requirement already satisfied: kiwisolver>=1.0.1 in /usr/local/lib/python3.7/dist-packages (from matplotlib->pySingleCellNet==0.1) (1.4.2)\n",
      "Requirement already satisfied: pyparsing!=2.0.4,!=2.1.2,!=2.1.6,>=2.0.1 in /usr/local/lib/python3.7/dist-packages (from matplotlib->pySingleCellNet==0.1) (3.0.8)\n",
      "Requirement already satisfied: cycler>=0.10 in /usr/local/lib/python3.7/dist-packages (from matplotlib->pySingleCellNet==0.1) (0.11.0)\n",
      "Requirement already satisfied: typing-extensions in /usr/local/lib/python3.7/dist-packages (from kiwisolver>=1.0.1->matplotlib->pySingleCellNet==0.1) (4.1.1)\n",
      "Requirement already satisfied: six>=1.5 in /usr/local/lib/python3.7/dist-packages (from python-dateutil>=2.1->matplotlib->pySingleCellNet==0.1) (1.15.0)\n",
      "Requirement already satisfied: pytz>=2017.3 in /usr/local/lib/python3.7/dist-packages (from pandas->pySingleCellNet==0.1) (2022.1)\n",
      "Requirement already satisfied: importlib_metadata>=0.7 in /usr/local/lib/python3.7/dist-packages (from scanpy->pySingleCellNet==0.1) (4.11.3)\n",
      "Requirement already satisfied: h5py>=3 in /usr/local/lib/python3.7/dist-packages (from scanpy->pySingleCellNet==0.1) (3.1.0)\n",
      "Collecting session-info\n",
      "  Downloading session_info-1.0.0.tar.gz (24 kB)\n",
      "Collecting anndata>=0.7.4\n",
      "  Downloading anndata-0.8.0-py3-none-any.whl (96 kB)\n",
      "\u001b[K     |████████████████████████████████| 96 kB 5.3 MB/s \n",
      "\u001b[?25hRequirement already satisfied: scikit-learn>=0.22 in /usr/local/lib/python3.7/dist-packages (from scanpy->pySingleCellNet==0.1) (1.0.2)\n",
      "Requirement already satisfied: tqdm in /usr/local/lib/python3.7/dist-packages (from scanpy->pySingleCellNet==0.1) (4.64.0)\n",
      "Requirement already satisfied: joblib in /usr/local/lib/python3.7/dist-packages (from scanpy->pySingleCellNet==0.1) (1.1.0)\n",
      "Requirement already satisfied: numba>=0.41.0 in /usr/local/lib/python3.7/dist-packages (from scanpy->pySingleCellNet==0.1) (0.51.2)\n",
      "Requirement already satisfied: natsort in /usr/local/lib/python3.7/dist-packages (from scanpy->pySingleCellNet==0.1) (5.5.0)\n",
      "Requirement already satisfied: networkx>=2.3 in /usr/local/lib/python3.7/dist-packages (from scanpy->pySingleCellNet==0.1) (2.6.3)\n",
      "Requirement already satisfied: packaging in /usr/local/lib/python3.7/dist-packages (from scanpy->pySingleCellNet==0.1) (21.3)\n",
      "Collecting matplotlib\n",
      "  Downloading matplotlib-3.5.1-cp37-cp37m-manylinux_2_5_x86_64.manylinux1_x86_64.whl (11.2 MB)\n",
      "\u001b[K     |████████████████████████████████| 11.2 MB 39.8 MB/s \n",
      "\u001b[?25hRequirement already satisfied: patsy in /usr/local/lib/python3.7/dist-packages (from scanpy->pySingleCellNet==0.1) (0.5.2)\n",
      "Requirement already satisfied: cached-property in /usr/local/lib/python3.7/dist-packages (from h5py>=3->scanpy->pySingleCellNet==0.1) (1.5.2)\n",
      "Requirement already satisfied: zipp>=0.5 in /usr/local/lib/python3.7/dist-packages (from importlib_metadata>=0.7->scanpy->pySingleCellNet==0.1) (3.8.0)\n",
      "Collecting fonttools>=4.22.0\n",
      "  Downloading fonttools-4.33.2-py3-none-any.whl (930 kB)\n",
      "\u001b[K     |████████████████████████████████| 930 kB 45.5 MB/s \n",
      "\u001b[?25hRequirement already satisfied: pillow>=6.2.0 in /usr/local/lib/python3.7/dist-packages (from matplotlib->pySingleCellNet==0.1) (7.1.2)\n",
      "Requirement already satisfied: setuptools in /usr/local/lib/python3.7/dist-packages (from numba>=0.41.0->scanpy->pySingleCellNet==0.1) (57.4.0)\n",
      "Requirement already satisfied: llvmlite<0.35,>=0.34.0.dev0 in /usr/local/lib/python3.7/dist-packages (from numba>=0.41.0->scanpy->pySingleCellNet==0.1) (0.34.0)\n",
      "Requirement already satisfied: threadpoolctl>=2.0.0 in /usr/local/lib/python3.7/dist-packages (from scikit-learn>=0.22->scanpy->pySingleCellNet==0.1) (3.1.0)\n",
      "Collecting pynndescent>=0.5\n",
      "  Downloading pynndescent-0.5.6.tar.gz (1.1 MB)\n",
      "\u001b[K     |████████████████████████████████| 1.1 MB 46.6 MB/s \n",
      "\u001b[?25hCollecting stdlib_list\n",
      "  Downloading stdlib_list-0.8.0-py3-none-any.whl (63 kB)\n",
      "\u001b[K     |████████████████████████████████| 63 kB 2.2 MB/s \n",
      "\u001b[?25hBuilding wheels for collected packages: pySingleCellNet, umap-learn, pynndescent, session-info\n",
      "  Building wheel for pySingleCellNet (setup.py) ... \u001b[?25l\u001b[?25hdone\n",
      "  Created wheel for pySingleCellNet: filename=pySingleCellNet-0.1-py3-none-any.whl size=15672 sha256=cd17db092cb46348367f19af5bd72bdea1386f3ad087f059870a596464bbf528\n",
      "  Stored in directory: /tmp/pip-ephem-wheel-cache-2vkon3g5/wheels/5c/f3/8b/9b77863a37aa6f582dbf8fee86228ad6692bc02904c8a586be\n",
      "  Building wheel for umap-learn (setup.py) ... \u001b[?25l\u001b[?25hdone\n",
      "  Created wheel for umap-learn: filename=umap_learn-0.5.3-py3-none-any.whl size=82829 sha256=69835344a1092c82c1cafbd7d0c54e60593ee56c45791b5d6994d3934eae6d2b\n",
      "  Stored in directory: /root/.cache/pip/wheels/b3/52/a5/1fd9e3e76a7ab34f134c07469cd6f16e27ef3a37aeff1fe821\n",
      "  Building wheel for pynndescent (setup.py) ... \u001b[?25l\u001b[?25hdone\n",
      "  Created wheel for pynndescent: filename=pynndescent-0.5.6-py3-none-any.whl size=53943 sha256=d34010416ad60d2137a2fde071c29125246d22c71f85ff6ac5234fe351ce6de1\n",
      "  Stored in directory: /root/.cache/pip/wheels/03/f1/56/f80d72741e400345b5a5b50ec3d929aca581bf45e0225d5c50\n",
      "  Building wheel for session-info (setup.py) ... \u001b[?25l\u001b[?25hdone\n",
      "  Created wheel for session-info: filename=session_info-1.0.0-py3-none-any.whl size=8048 sha256=536765a3010cceb9e85f83b06a1d14940a884c9370a34e6cfb851fbc2e097e2e\n",
      "  Stored in directory: /root/.cache/pip/wheels/bd/ad/14/6a42359351a18337a8683854cfbba99dd782271f2d1767f87f\n",
      "Successfully built pySingleCellNet umap-learn pynndescent session-info\n",
      "Installing collected packages: fonttools, stdlib-list, pynndescent, matplotlib, umap-learn, session-info, anndata, scanpy, pySingleCellNet\n",
      "  Attempting uninstall: matplotlib\n",
      "    Found existing installation: matplotlib 3.2.2\n",
      "    Uninstalling matplotlib-3.2.2:\n",
      "      Successfully uninstalled matplotlib-3.2.2\n",
      "\u001b[31mERROR: pip's dependency resolver does not currently take into account all the packages that are installed. This behaviour is the source of the following dependency conflicts.\n",
      "albumentations 0.1.12 requires imgaug<0.2.7,>=0.2.5, but you have imgaug 0.2.9 which is incompatible.\u001b[0m\n",
      "Successfully installed anndata-0.8.0 fonttools-4.33.2 matplotlib-3.5.1 pySingleCellNet-0.1 pynndescent-0.5.6 scanpy-1.9.1 session-info-1.0.0 stdlib-list-0.8.0 umap-learn-0.5.3\n"
     ]
    },
    {
     "data": {
      "application/vnd.colab-display-data+json": {
       "pip_warning": {
        "packages": [
         "matplotlib",
         "mpl_toolkits"
        ]
       }
      }
     },
     "metadata": {},
     "output_type": "display_data"
    }
   ],
   "source": [
    "!pip install git+https://github.com/pcahan1/PySingleCellNet/"
   ]
  },
  {
   "cell_type": "code",
   "execution_count": 70,
   "metadata": {
    "colab": {
     "base_uri": "https://localhost:8080/"
    },
    "id": "oWy-oCSQo3Nd",
    "outputId": "c51dace1-08ce-4aab-cb19-240498db2fd6"
   },
   "outputs": [
    {
     "data": {
      "text/plain": [
       "AnnData object with n_obs × n_vars = 4337 × 23433\n",
       "    obs: 'cell', 'cell_ontology_class', 'cell_ontology_id', 'cluster.ids', 'mouse.id', 'mouse.sex', 'plate.barcode', 'subtissue', 'tissue'"
      ]
     },
     "execution_count": 70,
     "metadata": {},
     "output_type": "execute_result"
    }
   ],
   "source": [
    "adTrain = sc.read(\"TM_FACS_heart.h5ad\")\n",
    "adTrain"
   ]
  },
  {
   "cell_type": "code",
   "execution_count": 71,
   "metadata": {
    "colab": {
     "base_uri": "https://localhost:8080/"
    },
    "id": "pLEqxECSpriL",
    "outputId": "f4a24082-2cbe-4d5a-f619-5da5b7569fc2"
   },
   "outputs": [
    {
     "data": {
      "text/plain": [
       "AnnData object with n_obs × n_vars = 3650 × 33694\n",
       "    var: 'gene_ids'"
      ]
     },
     "execution_count": 71,
     "metadata": {},
     "output_type": "execute_result"
    }
   ],
   "source": [
    "adQuery = sc.read(\"hIPSC_CM_orlova_GSM4443382.h5ad\")\n",
    "adQuery"
   ]
  },
  {
   "cell_type": "code",
   "execution_count": 72,
   "metadata": {
    "colab": {
     "base_uri": "https://localhost:8080/"
    },
    "id": "vEm6DZ5CzOqF",
    "outputId": "a1ea9256-084e-45aa-ab33-fe37f4e92805"
   },
   "outputs": [
    {
     "name": "stdout",
     "output_type": "stream",
     "text": [
      "0\n"
     ]
    }
   ],
   "source": [
    "adTrain.var['mt']= adTrain.var_names.str.startswith((\"mt-\"))\n",
    "print(sum(adTrain.var['mt']))"
   ]
  },
  {
   "cell_type": "code",
   "execution_count": 73,
   "metadata": {
    "colab": {
     "base_uri": "https://localhost:8080/"
    },
    "id": "HE8dzjGazZey",
    "outputId": "d25e18de-7fe3-447f-9013-b5431d921ca4"
   },
   "outputs": [
    {
     "name": "stdout",
     "output_type": "stream",
     "text": [
      "102\n"
     ]
    }
   ],
   "source": [
    "adTrain.var['ribo'] = adTrain.var_names.str.startswith((\"Rps\",\"Rpl\"))\n",
    "print(sum(adTrain.var['ribo']))"
   ]
  },
  {
   "cell_type": "code",
   "execution_count": 74,
   "metadata": {
    "id": "LibVH56AKxZL"
   },
   "outputs": [],
   "source": [
    "list_names = list(adQuery.var_names)\n",
    "lower_list = [each_string.lower() for each_string in list_names]\n",
    "adQuery.var_names = lower_list"
   ]
  },
  {
   "cell_type": "code",
   "execution_count": 75,
   "metadata": {
    "id": "8RWeKP6-LTFq"
   },
   "outputs": [],
   "source": [
    "list_names = list(adTrain.var_names)\n",
    "lower_list = [each_string.lower() for each_string in list_names]\n",
    "adTrain.var_names = lower_list"
   ]
  },
  {
   "cell_type": "code",
   "execution_count": 76,
   "metadata": {
    "colab": {
     "base_uri": "https://localhost:8080/"
    },
    "id": "zcM_LLv-DnOH",
    "outputId": "c1b7d599-8095-4077-c058-ffb103cfa378"
   },
   "outputs": [
    {
     "name": "stdout",
     "output_type": "stream",
     "text": [
      "14823\n"
     ]
    },
    {
     "data": {
      "text/plain": [
       "AnnData object with n_obs × n_vars = 3650 × 14823\n",
       "    var: 'gene_ids'"
      ]
     },
     "execution_count": 76,
     "metadata": {},
     "output_type": "execute_result"
    }
   ],
   "source": [
    "genesTrain = adTrain.var_names\n",
    "genesQuery = adQuery.var_names\n",
    "\n",
    "cgenes = genesTrain.intersection(genesQuery)\n",
    "print(len(cgenes))\n",
    "\n",
    "adTrain = adTrain[:,cgenes]\n",
    "adQuery = adQuery[:,cgenes].copy()\n",
    "adQuery"
   ]
  },
  {
   "cell_type": "markdown",
   "metadata": {
    "id": "r3J3Lc2OIWXP"
   },
   "source": []
  },
  {
   "cell_type": "code",
   "execution_count": 77,
   "metadata": {
    "colab": {
     "base_uri": "https://localhost:8080/",
     "height": 419
    },
    "id": "q3kj8LYiJvOW",
    "outputId": "6e2cdf6d-7e75-456c-ad6f-66f8b9876316"
   },
   "outputs": [
    {
     "data": {
      "text/html": [
       "\n",
       "  <div id=\"df-ad0f0154-f99e-4514-a2de-c75de2898f19\">\n",
       "    <div class=\"colab-df-container\">\n",
       "      <div>\n",
       "<style scoped>\n",
       "    .dataframe tbody tr th:only-of-type {\n",
       "        vertical-align: middle;\n",
       "    }\n",
       "\n",
       "    .dataframe tbody tr th {\n",
       "        vertical-align: top;\n",
       "    }\n",
       "\n",
       "    .dataframe thead th {\n",
       "        text-align: right;\n",
       "    }\n",
       "</style>\n",
       "<table border=\"1\" class=\"dataframe\">\n",
       "  <thead>\n",
       "    <tr style=\"text-align: right;\">\n",
       "      <th></th>\n",
       "      <th>gene_ids</th>\n",
       "    </tr>\n",
       "  </thead>\n",
       "  <tbody>\n",
       "    <tr>\n",
       "      <th>a1bg</th>\n",
       "      <td>ENSG00000121410</td>\n",
       "    </tr>\n",
       "    <tr>\n",
       "      <th>a1cf</th>\n",
       "      <td>ENSG00000148584</td>\n",
       "    </tr>\n",
       "    <tr>\n",
       "      <th>a2m</th>\n",
       "      <td>ENSG00000175899</td>\n",
       "    </tr>\n",
       "    <tr>\n",
       "      <th>a3galt2</th>\n",
       "      <td>ENSG00000184389</td>\n",
       "    </tr>\n",
       "    <tr>\n",
       "      <th>a4galt</th>\n",
       "      <td>ENSG00000128274</td>\n",
       "    </tr>\n",
       "    <tr>\n",
       "      <th>...</th>\n",
       "      <td>...</td>\n",
       "    </tr>\n",
       "    <tr>\n",
       "      <th>zyg11a</th>\n",
       "      <td>ENSG00000203995</td>\n",
       "    </tr>\n",
       "    <tr>\n",
       "      <th>zyg11b</th>\n",
       "      <td>ENSG00000162378</td>\n",
       "    </tr>\n",
       "    <tr>\n",
       "      <th>zyx</th>\n",
       "      <td>ENSG00000159840</td>\n",
       "    </tr>\n",
       "    <tr>\n",
       "      <th>zzef1</th>\n",
       "      <td>ENSG00000074755</td>\n",
       "    </tr>\n",
       "    <tr>\n",
       "      <th>zzz3</th>\n",
       "      <td>ENSG00000036549</td>\n",
       "    </tr>\n",
       "  </tbody>\n",
       "</table>\n",
       "<p>14823 rows × 1 columns</p>\n",
       "</div>\n",
       "      <button class=\"colab-df-convert\" onclick=\"convertToInteractive('df-ad0f0154-f99e-4514-a2de-c75de2898f19')\"\n",
       "              title=\"Convert this dataframe to an interactive table.\"\n",
       "              style=\"display:none;\">\n",
       "        \n",
       "  <svg xmlns=\"http://www.w3.org/2000/svg\" height=\"24px\"viewBox=\"0 0 24 24\"\n",
       "       width=\"24px\">\n",
       "    <path d=\"M0 0h24v24H0V0z\" fill=\"none\"/>\n",
       "    <path d=\"M18.56 5.44l.94 2.06.94-2.06 2.06-.94-2.06-.94-.94-2.06-.94 2.06-2.06.94zm-11 1L8.5 8.5l.94-2.06 2.06-.94-2.06-.94L8.5 2.5l-.94 2.06-2.06.94zm10 10l.94 2.06.94-2.06 2.06-.94-2.06-.94-.94-2.06-.94 2.06-2.06.94z\"/><path d=\"M17.41 7.96l-1.37-1.37c-.4-.4-.92-.59-1.43-.59-.52 0-1.04.2-1.43.59L10.3 9.45l-7.72 7.72c-.78.78-.78 2.05 0 2.83L4 21.41c.39.39.9.59 1.41.59.51 0 1.02-.2 1.41-.59l7.78-7.78 2.81-2.81c.8-.78.8-2.07 0-2.86zM5.41 20L4 18.59l7.72-7.72 1.47 1.35L5.41 20z\"/>\n",
       "  </svg>\n",
       "      </button>\n",
       "      \n",
       "  <style>\n",
       "    .colab-df-container {\n",
       "      display:flex;\n",
       "      flex-wrap:wrap;\n",
       "      gap: 12px;\n",
       "    }\n",
       "\n",
       "    .colab-df-convert {\n",
       "      background-color: #E8F0FE;\n",
       "      border: none;\n",
       "      border-radius: 50%;\n",
       "      cursor: pointer;\n",
       "      display: none;\n",
       "      fill: #1967D2;\n",
       "      height: 32px;\n",
       "      padding: 0 0 0 0;\n",
       "      width: 32px;\n",
       "    }\n",
       "\n",
       "    .colab-df-convert:hover {\n",
       "      background-color: #E2EBFA;\n",
       "      box-shadow: 0px 1px 2px rgba(60, 64, 67, 0.3), 0px 1px 3px 1px rgba(60, 64, 67, 0.15);\n",
       "      fill: #174EA6;\n",
       "    }\n",
       "\n",
       "    [theme=dark] .colab-df-convert {\n",
       "      background-color: #3B4455;\n",
       "      fill: #D2E3FC;\n",
       "    }\n",
       "\n",
       "    [theme=dark] .colab-df-convert:hover {\n",
       "      background-color: #434B5C;\n",
       "      box-shadow: 0px 1px 3px 1px rgba(0, 0, 0, 0.15);\n",
       "      filter: drop-shadow(0px 1px 2px rgba(0, 0, 0, 0.3));\n",
       "      fill: #FFFFFF;\n",
       "    }\n",
       "  </style>\n",
       "\n",
       "      <script>\n",
       "        const buttonEl =\n",
       "          document.querySelector('#df-ad0f0154-f99e-4514-a2de-c75de2898f19 button.colab-df-convert');\n",
       "        buttonEl.style.display =\n",
       "          google.colab.kernel.accessAllowed ? 'block' : 'none';\n",
       "\n",
       "        async function convertToInteractive(key) {\n",
       "          const element = document.querySelector('#df-ad0f0154-f99e-4514-a2de-c75de2898f19');\n",
       "          const dataTable =\n",
       "            await google.colab.kernel.invokeFunction('convertToInteractive',\n",
       "                                                     [key], {});\n",
       "          if (!dataTable) return;\n",
       "\n",
       "          const docLinkHtml = 'Like what you see? Visit the ' +\n",
       "            '<a target=\"_blank\" href=https://colab.research.google.com/notebooks/data_table.ipynb>data table notebook</a>'\n",
       "            + ' to learn more about interactive tables.';\n",
       "          element.innerHTML = '';\n",
       "          dataTable['output_type'] = 'display_data';\n",
       "          await google.colab.output.renderOutput(dataTable, element);\n",
       "          const docLink = document.createElement('div');\n",
       "          docLink.innerHTML = docLinkHtml;\n",
       "          element.appendChild(docLink);\n",
       "        }\n",
       "      </script>\n",
       "    </div>\n",
       "  </div>\n",
       "  "
      ],
      "text/plain": [
       "                gene_ids\n",
       "a1bg     ENSG00000121410\n",
       "a1cf     ENSG00000148584\n",
       "a2m      ENSG00000175899\n",
       "a3galt2  ENSG00000184389\n",
       "a4galt   ENSG00000128274\n",
       "...                  ...\n",
       "zyg11a   ENSG00000203995\n",
       "zyg11b   ENSG00000162378\n",
       "zyx      ENSG00000159840\n",
       "zzef1    ENSG00000074755\n",
       "zzz3     ENSG00000036549\n",
       "\n",
       "[14823 rows x 1 columns]"
      ]
     },
     "execution_count": 77,
     "metadata": {},
     "output_type": "execute_result"
    }
   ],
   "source": [
    "adQuery.var"
   ]
  },
  {
   "cell_type": "code",
   "execution_count": 78,
   "metadata": {
    "colab": {
     "base_uri": "https://localhost:8080/",
     "height": 514
    },
    "id": "hr8xewApEsF5",
    "outputId": "2b9f25cb-b31d-47bd-c297-57b8db6347a1"
   },
   "outputs": [
    {
     "data": {
      "text/html": [
       "\n",
       "  <div id=\"df-200e17a8-d740-4e2c-9c5b-4117eee5043b\">\n",
       "    <div class=\"colab-df-container\">\n",
       "      <div>\n",
       "<style scoped>\n",
       "    .dataframe tbody tr th:only-of-type {\n",
       "        vertical-align: middle;\n",
       "    }\n",
       "\n",
       "    .dataframe tbody tr th {\n",
       "        vertical-align: top;\n",
       "    }\n",
       "\n",
       "    .dataframe thead th {\n",
       "        text-align: right;\n",
       "    }\n",
       "</style>\n",
       "<table border=\"1\" class=\"dataframe\">\n",
       "  <thead>\n",
       "    <tr style=\"text-align: right;\">\n",
       "      <th></th>\n",
       "      <th>cell</th>\n",
       "      <th>cell_ontology_class</th>\n",
       "      <th>cell_ontology_id</th>\n",
       "      <th>cluster.ids</th>\n",
       "      <th>mouse.id</th>\n",
       "      <th>mouse.sex</th>\n",
       "      <th>plate.barcode</th>\n",
       "      <th>subtissue</th>\n",
       "      <th>tissue</th>\n",
       "      <th>NaN</th>\n",
       "    </tr>\n",
       "    <tr>\n",
       "      <th>cell</th>\n",
       "      <th></th>\n",
       "      <th></th>\n",
       "      <th></th>\n",
       "      <th></th>\n",
       "      <th></th>\n",
       "      <th></th>\n",
       "      <th></th>\n",
       "      <th></th>\n",
       "      <th></th>\n",
       "      <th></th>\n",
       "    </tr>\n",
       "  </thead>\n",
       "  <tbody>\n",
       "    <tr>\n",
       "      <th>A1.B002427.3_39_F.1.1</th>\n",
       "      <td>A1.B002427.3_39_F.1.1</td>\n",
       "      <td>myofibroblast cell</td>\n",
       "      <td>CL:0000186</td>\n",
       "      <td>7</td>\n",
       "      <td>3_39_F</td>\n",
       "      <td>F</td>\n",
       "      <td>B002427</td>\n",
       "      <td>LA</td>\n",
       "      <td>Heart</td>\n",
       "      <td>A1.B002427.3_39_F.1.1</td>\n",
       "    </tr>\n",
       "    <tr>\n",
       "      <th>A1.B002428.3_38_F.1.1</th>\n",
       "      <td>A1.B002428.3_38_F.1.1</td>\n",
       "      <td>endocardial cell</td>\n",
       "      <td>CL:0002350</td>\n",
       "      <td>8</td>\n",
       "      <td>3_38_F</td>\n",
       "      <td>F</td>\n",
       "      <td>B002428</td>\n",
       "      <td>LA</td>\n",
       "      <td>Heart</td>\n",
       "      <td>A1.B002428.3_38_F.1.1</td>\n",
       "    </tr>\n",
       "    <tr>\n",
       "      <th>A1.MAA000903.3_11_M.1.1</th>\n",
       "      <td>A1.MAA000903.3_11_M.1.1</td>\n",
       "      <td>fibroblast</td>\n",
       "      <td>CL:0000057</td>\n",
       "      <td>1</td>\n",
       "      <td>3_11_M</td>\n",
       "      <td>M</td>\n",
       "      <td>MAA000903</td>\n",
       "      <td>RA</td>\n",
       "      <td>Heart</td>\n",
       "      <td>A1.MAA000903.3_11_M.1.1</td>\n",
       "    </tr>\n",
       "    <tr>\n",
       "      <th>A1.MAA100037.3_10_M.1.1</th>\n",
       "      <td>A1.MAA100037.3_10_M.1.1</td>\n",
       "      <td>cardiac muscle cell</td>\n",
       "      <td>CL:0000746</td>\n",
       "      <td>9</td>\n",
       "      <td>3_10_M/3_11_M</td>\n",
       "      <td>M</td>\n",
       "      <td>MAA100037</td>\n",
       "      <td>Unknown</td>\n",
       "      <td>Heart</td>\n",
       "      <td>A1.MAA100037.3_10_M.1.1</td>\n",
       "    </tr>\n",
       "    <tr>\n",
       "      <th>A10.MAA000398.3_9_M.1.1</th>\n",
       "      <td>A10.MAA000398.3_9_M.1.1</td>\n",
       "      <td>leukocyte</td>\n",
       "      <td>CL:0000738</td>\n",
       "      <td>10</td>\n",
       "      <td>3_9_M</td>\n",
       "      <td>M</td>\n",
       "      <td>MAA000398</td>\n",
       "      <td>LA</td>\n",
       "      <td>Heart</td>\n",
       "      <td>A10.MAA000398.3_9_M.1.1</td>\n",
       "    </tr>\n",
       "    <tr>\n",
       "      <th>...</th>\n",
       "      <td>...</td>\n",
       "      <td>...</td>\n",
       "      <td>...</td>\n",
       "      <td>...</td>\n",
       "      <td>...</td>\n",
       "      <td>...</td>\n",
       "      <td>...</td>\n",
       "      <td>...</td>\n",
       "      <td>...</td>\n",
       "      <td>...</td>\n",
       "    </tr>\n",
       "    <tr>\n",
       "      <th>P8.B002010.3_39_F.1.1</th>\n",
       "      <td>P8.B002010.3_39_F.1.1</td>\n",
       "      <td>endocardial cell</td>\n",
       "      <td>CL:0002350</td>\n",
       "      <td>8</td>\n",
       "      <td>3_39_F</td>\n",
       "      <td>F</td>\n",
       "      <td>B002010</td>\n",
       "      <td>RA</td>\n",
       "      <td>Heart</td>\n",
       "      <td>P8.B002010.3_39_F.1.1</td>\n",
       "    </tr>\n",
       "    <tr>\n",
       "      <th>P8.B002428.3_38_F.1.1</th>\n",
       "      <td>P8.B002428.3_38_F.1.1</td>\n",
       "      <td>endocardial cell</td>\n",
       "      <td>CL:0002350</td>\n",
       "      <td>8</td>\n",
       "      <td>3_38_F</td>\n",
       "      <td>F</td>\n",
       "      <td>B002428</td>\n",
       "      <td>LA</td>\n",
       "      <td>Heart</td>\n",
       "      <td>P8.B002428.3_38_F.1.1</td>\n",
       "    </tr>\n",
       "    <tr>\n",
       "      <th>P8.MAA000400.3_8_M.1.1</th>\n",
       "      <td>P8.MAA000400.3_8_M.1.1</td>\n",
       "      <td>leukocyte</td>\n",
       "      <td>CL:0000738</td>\n",
       "      <td>4</td>\n",
       "      <td>3_8_M</td>\n",
       "      <td>M</td>\n",
       "      <td>MAA000400</td>\n",
       "      <td>LA</td>\n",
       "      <td>Heart</td>\n",
       "      <td>P8.MAA000400.3_8_M.1.1</td>\n",
       "    </tr>\n",
       "    <tr>\n",
       "      <th>P8.MAA000586.3_8_M.1.1</th>\n",
       "      <td>P8.MAA000586.3_8_M.1.1</td>\n",
       "      <td>endocardial cell</td>\n",
       "      <td>CL:0002350</td>\n",
       "      <td>8</td>\n",
       "      <td>3_8_M</td>\n",
       "      <td>M</td>\n",
       "      <td>MAA000586</td>\n",
       "      <td>RA</td>\n",
       "      <td>Heart</td>\n",
       "      <td>P8.MAA000586.3_8_M.1.1</td>\n",
       "    </tr>\n",
       "    <tr>\n",
       "      <th>P9.MAA000936.3_9_M.1.1</th>\n",
       "      <td>P9.MAA000936.3_9_M.1.1</td>\n",
       "      <td>endothelial cell</td>\n",
       "      <td>CL:0000115</td>\n",
       "      <td>5</td>\n",
       "      <td>3_9_M</td>\n",
       "      <td>M</td>\n",
       "      <td>MAA000936</td>\n",
       "      <td>RA</td>\n",
       "      <td>Heart</td>\n",
       "      <td>P9.MAA000936.3_9_M.1.1</td>\n",
       "    </tr>\n",
       "  </tbody>\n",
       "</table>\n",
       "<p>1106 rows × 10 columns</p>\n",
       "</div>\n",
       "      <button class=\"colab-df-convert\" onclick=\"convertToInteractive('df-200e17a8-d740-4e2c-9c5b-4117eee5043b')\"\n",
       "              title=\"Convert this dataframe to an interactive table.\"\n",
       "              style=\"display:none;\">\n",
       "        \n",
       "  <svg xmlns=\"http://www.w3.org/2000/svg\" height=\"24px\"viewBox=\"0 0 24 24\"\n",
       "       width=\"24px\">\n",
       "    <path d=\"M0 0h24v24H0V0z\" fill=\"none\"/>\n",
       "    <path d=\"M18.56 5.44l.94 2.06.94-2.06 2.06-.94-2.06-.94-.94-2.06-.94 2.06-2.06.94zm-11 1L8.5 8.5l.94-2.06 2.06-.94-2.06-.94L8.5 2.5l-.94 2.06-2.06.94zm10 10l.94 2.06.94-2.06 2.06-.94-2.06-.94-.94-2.06-.94 2.06-2.06.94z\"/><path d=\"M17.41 7.96l-1.37-1.37c-.4-.4-.92-.59-1.43-.59-.52 0-1.04.2-1.43.59L10.3 9.45l-7.72 7.72c-.78.78-.78 2.05 0 2.83L4 21.41c.39.39.9.59 1.41.59.51 0 1.02-.2 1.41-.59l7.78-7.78 2.81-2.81c.8-.78.8-2.07 0-2.86zM5.41 20L4 18.59l7.72-7.72 1.47 1.35L5.41 20z\"/>\n",
       "  </svg>\n",
       "      </button>\n",
       "      \n",
       "  <style>\n",
       "    .colab-df-container {\n",
       "      display:flex;\n",
       "      flex-wrap:wrap;\n",
       "      gap: 12px;\n",
       "    }\n",
       "\n",
       "    .colab-df-convert {\n",
       "      background-color: #E8F0FE;\n",
       "      border: none;\n",
       "      border-radius: 50%;\n",
       "      cursor: pointer;\n",
       "      display: none;\n",
       "      fill: #1967D2;\n",
       "      height: 32px;\n",
       "      padding: 0 0 0 0;\n",
       "      width: 32px;\n",
       "    }\n",
       "\n",
       "    .colab-df-convert:hover {\n",
       "      background-color: #E2EBFA;\n",
       "      box-shadow: 0px 1px 2px rgba(60, 64, 67, 0.3), 0px 1px 3px 1px rgba(60, 64, 67, 0.15);\n",
       "      fill: #174EA6;\n",
       "    }\n",
       "\n",
       "    [theme=dark] .colab-df-convert {\n",
       "      background-color: #3B4455;\n",
       "      fill: #D2E3FC;\n",
       "    }\n",
       "\n",
       "    [theme=dark] .colab-df-convert:hover {\n",
       "      background-color: #434B5C;\n",
       "      box-shadow: 0px 1px 3px 1px rgba(0, 0, 0, 0.15);\n",
       "      filter: drop-shadow(0px 1px 2px rgba(0, 0, 0, 0.3));\n",
       "      fill: #FFFFFF;\n",
       "    }\n",
       "  </style>\n",
       "\n",
       "      <script>\n",
       "        const buttonEl =\n",
       "          document.querySelector('#df-200e17a8-d740-4e2c-9c5b-4117eee5043b button.colab-df-convert');\n",
       "        buttonEl.style.display =\n",
       "          google.colab.kernel.accessAllowed ? 'block' : 'none';\n",
       "\n",
       "        async function convertToInteractive(key) {\n",
       "          const element = document.querySelector('#df-200e17a8-d740-4e2c-9c5b-4117eee5043b');\n",
       "          const dataTable =\n",
       "            await google.colab.kernel.invokeFunction('convertToInteractive',\n",
       "                                                     [key], {});\n",
       "          if (!dataTable) return;\n",
       "\n",
       "          const docLinkHtml = 'Like what you see? Visit the ' +\n",
       "            '<a target=\"_blank\" href=https://colab.research.google.com/notebooks/data_table.ipynb>data table notebook</a>'\n",
       "            + ' to learn more about interactive tables.';\n",
       "          element.innerHTML = '';\n",
       "          dataTable['output_type'] = 'display_data';\n",
       "          await google.colab.output.renderOutput(dataTable, element);\n",
       "          const docLink = document.createElement('div');\n",
       "          docLink.innerHTML = docLinkHtml;\n",
       "          element.appendChild(docLink);\n",
       "        }\n",
       "      </script>\n",
       "    </div>\n",
       "  </div>\n",
       "  "
      ],
      "text/plain": [
       "                                            cell  cell_ontology_class  \\\n",
       "cell                                                                    \n",
       "A1.B002427.3_39_F.1.1      A1.B002427.3_39_F.1.1   myofibroblast cell   \n",
       "A1.B002428.3_38_F.1.1      A1.B002428.3_38_F.1.1     endocardial cell   \n",
       "A1.MAA000903.3_11_M.1.1  A1.MAA000903.3_11_M.1.1           fibroblast   \n",
       "A1.MAA100037.3_10_M.1.1  A1.MAA100037.3_10_M.1.1  cardiac muscle cell   \n",
       "A10.MAA000398.3_9_M.1.1  A10.MAA000398.3_9_M.1.1            leukocyte   \n",
       "...                                          ...                  ...   \n",
       "P8.B002010.3_39_F.1.1      P8.B002010.3_39_F.1.1     endocardial cell   \n",
       "P8.B002428.3_38_F.1.1      P8.B002428.3_38_F.1.1     endocardial cell   \n",
       "P8.MAA000400.3_8_M.1.1    P8.MAA000400.3_8_M.1.1            leukocyte   \n",
       "P8.MAA000586.3_8_M.1.1    P8.MAA000586.3_8_M.1.1     endocardial cell   \n",
       "P9.MAA000936.3_9_M.1.1    P9.MAA000936.3_9_M.1.1     endothelial cell   \n",
       "\n",
       "                        cell_ontology_id  cluster.ids       mouse.id  \\\n",
       "cell                                                                   \n",
       "A1.B002427.3_39_F.1.1         CL:0000186            7         3_39_F   \n",
       "A1.B002428.3_38_F.1.1         CL:0002350            8         3_38_F   \n",
       "A1.MAA000903.3_11_M.1.1       CL:0000057            1         3_11_M   \n",
       "A1.MAA100037.3_10_M.1.1       CL:0000746            9  3_10_M/3_11_M   \n",
       "A10.MAA000398.3_9_M.1.1       CL:0000738           10          3_9_M   \n",
       "...                                  ...          ...            ...   \n",
       "P8.B002010.3_39_F.1.1         CL:0002350            8         3_39_F   \n",
       "P8.B002428.3_38_F.1.1         CL:0002350            8         3_38_F   \n",
       "P8.MAA000400.3_8_M.1.1        CL:0000738            4          3_8_M   \n",
       "P8.MAA000586.3_8_M.1.1        CL:0002350            8          3_8_M   \n",
       "P9.MAA000936.3_9_M.1.1        CL:0000115            5          3_9_M   \n",
       "\n",
       "                        mouse.sex plate.barcode subtissue tissue  \\\n",
       "cell                                                               \n",
       "A1.B002427.3_39_F.1.1           F       B002427        LA  Heart   \n",
       "A1.B002428.3_38_F.1.1           F       B002428        LA  Heart   \n",
       "A1.MAA000903.3_11_M.1.1         M     MAA000903        RA  Heart   \n",
       "A1.MAA100037.3_10_M.1.1         M     MAA100037   Unknown  Heart   \n",
       "A10.MAA000398.3_9_M.1.1         M     MAA000398        LA  Heart   \n",
       "...                           ...           ...       ...    ...   \n",
       "P8.B002010.3_39_F.1.1           F       B002010        RA  Heart   \n",
       "P8.B002428.3_38_F.1.1           F       B002428        LA  Heart   \n",
       "P8.MAA000400.3_8_M.1.1          M     MAA000400        LA  Heart   \n",
       "P8.MAA000586.3_8_M.1.1          M     MAA000586        RA  Heart   \n",
       "P9.MAA000936.3_9_M.1.1          M     MAA000936        RA  Heart   \n",
       "\n",
       "                                             NaN  \n",
       "cell                                              \n",
       "A1.B002427.3_39_F.1.1      A1.B002427.3_39_F.1.1  \n",
       "A1.B002428.3_38_F.1.1      A1.B002428.3_38_F.1.1  \n",
       "A1.MAA000903.3_11_M.1.1  A1.MAA000903.3_11_M.1.1  \n",
       "A1.MAA100037.3_10_M.1.1  A1.MAA100037.3_10_M.1.1  \n",
       "A10.MAA000398.3_9_M.1.1  A10.MAA000398.3_9_M.1.1  \n",
       "...                                          ...  \n",
       "P8.B002010.3_39_F.1.1      P8.B002010.3_39_F.1.1  \n",
       "P8.B002428.3_38_F.1.1      P8.B002428.3_38_F.1.1  \n",
       "P8.MAA000400.3_8_M.1.1    P8.MAA000400.3_8_M.1.1  \n",
       "P8.MAA000586.3_8_M.1.1    P8.MAA000586.3_8_M.1.1  \n",
       "P9.MAA000936.3_9_M.1.1    P9.MAA000936.3_9_M.1.1  \n",
       "\n",
       "[1106 rows x 10 columns]"
      ]
     },
     "execution_count": 78,
     "metadata": {},
     "output_type": "execute_result"
    }
   ],
   "source": [
    "expTrain.obs"
   ]
  },
  {
   "cell_type": "code",
   "execution_count": 79,
   "metadata": {
    "colab": {
     "base_uri": "https://localhost:8080/",
     "height": 640
    },
    "id": "k-FgW67uqHOV",
    "outputId": "404f04f3-656a-4c9b-9c97-a40619d8e6df"
   },
   "outputs": [
    {
     "name": "stdout",
     "output_type": "stream",
     "text": [
      "leukocyte : \n",
      "523\n",
      "smooth muscle cell : \n",
      "42\n",
      "endocardial cell : \n",
      "165\n",
      "fibroblast : \n",
      "2119\n",
      "endothelial cell : \n",
      "1177\n",
      "myofibroblast cell : \n",
      "178\n",
      "cardiac muscle cell : \n",
      "133\n"
     ]
    },
    {
     "data": {
      "text/html": [
       "\n",
       "  <div id=\"df-cb283e5c-176e-4864-9feb-39c256116fdc\">\n",
       "    <div class=\"colab-df-container\">\n",
       "      <div>\n",
       "<style scoped>\n",
       "    .dataframe tbody tr th:only-of-type {\n",
       "        vertical-align: middle;\n",
       "    }\n",
       "\n",
       "    .dataframe tbody tr th {\n",
       "        vertical-align: top;\n",
       "    }\n",
       "\n",
       "    .dataframe thead th {\n",
       "        text-align: right;\n",
       "    }\n",
       "</style>\n",
       "<table border=\"1\" class=\"dataframe\">\n",
       "  <thead>\n",
       "    <tr style=\"text-align: right;\">\n",
       "      <th></th>\n",
       "    </tr>\n",
       "  </thead>\n",
       "  <tbody>\n",
       "    <tr>\n",
       "      <th>AAACCTGAGAAGGTTT-1</th>\n",
       "    </tr>\n",
       "    <tr>\n",
       "      <th>AAACCTGAGCATCATC-1</th>\n",
       "    </tr>\n",
       "    <tr>\n",
       "      <th>AAACCTGCAGACGTAG-1</th>\n",
       "    </tr>\n",
       "    <tr>\n",
       "      <th>AAACCTGGTCGTGGCT-1</th>\n",
       "    </tr>\n",
       "    <tr>\n",
       "      <th>AAACCTGGTTTCGCTC-1</th>\n",
       "    </tr>\n",
       "    <tr>\n",
       "      <th>...</th>\n",
       "    </tr>\n",
       "    <tr>\n",
       "      <th>TTTGGTTTCTCTGAGA-1</th>\n",
       "    </tr>\n",
       "    <tr>\n",
       "      <th>TTTGGTTTCTGTGCAA-1</th>\n",
       "    </tr>\n",
       "    <tr>\n",
       "      <th>TTTGTCAGTCTCCACT-1</th>\n",
       "    </tr>\n",
       "    <tr>\n",
       "      <th>TTTGTCATCCTACAGA-1</th>\n",
       "    </tr>\n",
       "    <tr>\n",
       "      <th>TTTGTCATCTTAACCT-1</th>\n",
       "    </tr>\n",
       "  </tbody>\n",
       "</table>\n",
       "<p>3650 rows × 0 columns</p>\n",
       "</div>\n",
       "      <button class=\"colab-df-convert\" onclick=\"convertToInteractive('df-cb283e5c-176e-4864-9feb-39c256116fdc')\"\n",
       "              title=\"Convert this dataframe to an interactive table.\"\n",
       "              style=\"display:none;\">\n",
       "        \n",
       "  <svg xmlns=\"http://www.w3.org/2000/svg\" height=\"24px\"viewBox=\"0 0 24 24\"\n",
       "       width=\"24px\">\n",
       "    <path d=\"M0 0h24v24H0V0z\" fill=\"none\"/>\n",
       "    <path d=\"M18.56 5.44l.94 2.06.94-2.06 2.06-.94-2.06-.94-.94-2.06-.94 2.06-2.06.94zm-11 1L8.5 8.5l.94-2.06 2.06-.94-2.06-.94L8.5 2.5l-.94 2.06-2.06.94zm10 10l.94 2.06.94-2.06 2.06-.94-2.06-.94-.94-2.06-.94 2.06-2.06.94z\"/><path d=\"M17.41 7.96l-1.37-1.37c-.4-.4-.92-.59-1.43-.59-.52 0-1.04.2-1.43.59L10.3 9.45l-7.72 7.72c-.78.78-.78 2.05 0 2.83L4 21.41c.39.39.9.59 1.41.59.51 0 1.02-.2 1.41-.59l7.78-7.78 2.81-2.81c.8-.78.8-2.07 0-2.86zM5.41 20L4 18.59l7.72-7.72 1.47 1.35L5.41 20z\"/>\n",
       "  </svg>\n",
       "      </button>\n",
       "      \n",
       "  <style>\n",
       "    .colab-df-container {\n",
       "      display:flex;\n",
       "      flex-wrap:wrap;\n",
       "      gap: 12px;\n",
       "    }\n",
       "\n",
       "    .colab-df-convert {\n",
       "      background-color: #E8F0FE;\n",
       "      border: none;\n",
       "      border-radius: 50%;\n",
       "      cursor: pointer;\n",
       "      display: none;\n",
       "      fill: #1967D2;\n",
       "      height: 32px;\n",
       "      padding: 0 0 0 0;\n",
       "      width: 32px;\n",
       "    }\n",
       "\n",
       "    .colab-df-convert:hover {\n",
       "      background-color: #E2EBFA;\n",
       "      box-shadow: 0px 1px 2px rgba(60, 64, 67, 0.3), 0px 1px 3px 1px rgba(60, 64, 67, 0.15);\n",
       "      fill: #174EA6;\n",
       "    }\n",
       "\n",
       "    [theme=dark] .colab-df-convert {\n",
       "      background-color: #3B4455;\n",
       "      fill: #D2E3FC;\n",
       "    }\n",
       "\n",
       "    [theme=dark] .colab-df-convert:hover {\n",
       "      background-color: #434B5C;\n",
       "      box-shadow: 0px 1px 3px 1px rgba(0, 0, 0, 0.15);\n",
       "      filter: drop-shadow(0px 1px 2px rgba(0, 0, 0, 0.3));\n",
       "      fill: #FFFFFF;\n",
       "    }\n",
       "  </style>\n",
       "\n",
       "      <script>\n",
       "        const buttonEl =\n",
       "          document.querySelector('#df-cb283e5c-176e-4864-9feb-39c256116fdc button.colab-df-convert');\n",
       "        buttonEl.style.display =\n",
       "          google.colab.kernel.accessAllowed ? 'block' : 'none';\n",
       "\n",
       "        async function convertToInteractive(key) {\n",
       "          const element = document.querySelector('#df-cb283e5c-176e-4864-9feb-39c256116fdc');\n",
       "          const dataTable =\n",
       "            await google.colab.kernel.invokeFunction('convertToInteractive',\n",
       "                                                     [key], {});\n",
       "          if (!dataTable) return;\n",
       "\n",
       "          const docLinkHtml = 'Like what you see? Visit the ' +\n",
       "            '<a target=\"_blank\" href=https://colab.research.google.com/notebooks/data_table.ipynb>data table notebook</a>'\n",
       "            + ' to learn more about interactive tables.';\n",
       "          element.innerHTML = '';\n",
       "          dataTable['output_type'] = 'display_data';\n",
       "          await google.colab.output.renderOutput(dataTable, element);\n",
       "          const docLink = document.createElement('div');\n",
       "          docLink.innerHTML = docLinkHtml;\n",
       "          element.appendChild(docLink);\n",
       "        }\n",
       "      </script>\n",
       "    </div>\n",
       "  </div>\n",
       "  "
      ],
      "text/plain": [
       "Empty DataFrame\n",
       "Columns: []\n",
       "Index: [AAACCTGAGAAGGTTT-1, AAACCTGAGCATCATC-1, AAACCTGCAGACGTAG-1, AAACCTGGTCGTGGCT-1, AAACCTGGTTTCGCTC-1, AAACGGGAGCCGCCTA-1, AAACGGGGTATAAACG-1, AAACGGGGTGAAGGCT-1, AAACGGGTCGTCACGG-1, AAACGGGTCTGGTTCC-1, AAAGATGAGCACACAG-1, AAAGATGAGCACCGTC-1, AAAGATGAGGGTATCG-1, AAAGATGAGTTCCACA-1, AAAGATGGTGGTGTAG-1, AAAGATGGTTCCACGG-1, AAAGATGGTTCCCGAG-1, AAAGATGGTTCGTTGA-1, AAAGATGTCATGTCTT-1, AAAGCAAAGTTACGGG-1, AAAGCAACAGCCTGTG-1, AAAGCAAGTCACTTCC-1, AAAGCAAGTTATCCGA-1, AAAGCAATCAAGGCTT-1, AAAGTAGCAAAGTGCG-1, AAAGTAGCACCATGTA-1, AAAGTAGGTACAGTTC-1, AAAGTAGGTGGTGTAG-1, AAAGTAGTCCATGAGT-1, AAAGTAGTCGAACGGA-1, AAATGCCAGACCGGAT-1, AAATGCCAGCGCTCCA-1, AAATGCCAGGCACATG-1, AAATGCCCAAACTGTC-1, AAATGCCCACATAACC-1, AAATGCCCACTTCGAA-1, AAATGCCCAGTTTACG-1, AAATGCCCATGTCCTC-1, AAATGCCGTACGAAAT-1, AAATGCCGTCGAGATG-1, AAATGCCGTCGCCATG-1, AAATGCCTCTGAGTGT-1, AAATGCCTCTGCCAGG-1, AACACGTAGTCATGCT-1, AACACGTCACCCAGTG-1, AACACGTGTAAATGTG-1, AACACGTGTACATCCA-1, AACACGTGTACCGTAT-1, AACACGTTCGTGGGAA-1, AACACGTTCGTTTGCC-1, AACCATGAGCGCCTCA-1, AACCATGCAATCCAAC-1, AACCATGCACAGATTC-1, AACCATGCAGCTGTAT-1, AACCGCGAGCAAATCA-1, AACCGCGAGCCTTGAT-1, AACCGCGCAATGGAGC-1, AACCGCGCAGCCAGAA-1, AACCGCGGTAAGTAGT-1, AACCGCGGTCTGCCAG-1, AACCGCGGTCTTCTCG-1, AACCGCGGTTTAGGAA-1, AACGTTGAGACGACGT-1, AACGTTGAGATCCGAG-1, AACGTTGAGCCACGCT-1, AACGTTGCACCTATCC-1, AACGTTGCACGGCTAC-1, AACGTTGCAGGGCATA-1, AACGTTGCAGTATCTG-1, AACGTTGGTCGCATAT-1, AACGTTGGTTGATTGC-1, AACGTTGGTTGCGTTA-1, AACGTTGTCCGTCAAA-1, AACGTTGTCGGACAAG-1, AACGTTGTCTTAACCT-1, AACTCAGAGCGTCAAG-1, AACTCAGCAAACTGTC-1, AACTCAGGTACTTGAC-1, AACTCAGTCAACCAAC-1, AACTCAGTCAATACCG-1, AACTCAGTCATCATTC-1, AACTCAGTCCAAGTAC-1, AACTCAGTCTACTCAT-1, AACTCCCAGCGTAGTG-1, AACTCCCAGCTACCGC-1, AACTCCCAGGAATTAC-1, AACTCCCAGGTGACCA-1, AACTCCCCACAGATTC-1, AACTCCCCACTCTGTC-1, AACTCCCCAGCTGTAT-1, AACTCCCGTAAGTAGT-1, AACTCCCGTGTAATGA-1, AACTCCCGTTGGAGGT-1, AACTCCCTCATAAAGG-1, AACTCTTAGCGAAGGG-1, AACTCTTCACGGTAGA-1, AACTCTTCATTCTTAC-1, AACTCTTGTAATAGCA-1, AACTCTTGTCGATTGT-1, AACTCTTGTGTCAATC-1, ...]\n",
       "\n",
       "[3650 rows x 0 columns]"
      ]
     },
     "execution_count": 79,
     "metadata": {},
     "output_type": "execute_result"
    }
   ],
   "source": [
    "expTrain, expVal = pySCN.splitCommonAnnData(adTrain, ncells=200,dLevel=\"cell_ontology_class\")\n",
    "adQuery.obs"
   ]
  },
  {
   "cell_type": "code",
   "execution_count": 80,
   "metadata": {
    "colab": {
     "base_uri": "https://localhost:8080/"
    },
    "id": "GoBKSE_SqTcG",
    "outputId": "75ebdf81-add2-4636-9ffd-29fadedd318a"
   },
   "outputs": [
    {
     "name": "stdout",
     "output_type": "stream",
     "text": [
      "normalizing by total count per cell\n",
      "    finished (0:00:00): normalized adata.X and added    'n_counts', counts per cell before normalization (adata.obs)\n",
      "HVG\n",
      "extracting highly variable genes\n",
      "    finished (0:00:00)\n",
      "--> added\n",
      "    'highly_variable', boolean vector (adata.var)\n",
      "    'means', float vector (adata.var)\n",
      "    'dispersions', float vector (adata.var)\n",
      "    'dispersions_norm', float vector (adata.var)\n",
      "... as `zero_center=True`, sparse input is densified and may lead to large memory consumption\n",
      "Matrix normalized\n",
      "There are  713  classification genes\n",
      "\n",
      "cardiac muscle cell\n",
      "endocardial cell\n",
      "endothelial cell\n",
      "fibroblast\n",
      "leukocyte\n",
      "myofibroblast cell\n",
      "smooth muscle cell\n",
      "There are 691 top gene pairs\n",
      "\n",
      "Finished pair transforming the data\n",
      "\n"
     ]
    }
   ],
   "source": [
    "[cgenesA, xpairs, tspRF] = pySCN.scn_train(expTrain, nTopGenes = 100, nRand = 0, nTrees = 1000 ,nTopGenePairs = 100, dLevel = \"cell_ontology_class\", stratify=True, limitToHVG=True)"
   ]
  },
  {
   "cell_type": "code",
   "execution_count": 20,
   "metadata": {
    "colab": {
     "base_uri": "https://localhost:8080/",
     "height": 209
    },
    "id": "6J9FiOziqZZD",
    "outputId": "b11c21d7-4a2c-462a-d280-b40683e0c862"
   },
   "outputs": [
    {
     "data": {
      "image/png": "[encoded data removed]",
      "text/plain": [
       "<Figure size 720x100.08 with 3 Axes>"
      ]
     },
     "metadata": {
      "needs_background": "light"
     },
     "output_type": "display_data"
    }
   ],
   "source": [
    "adVal = pySCN.scn_classify(expVal, cgenesA, xpairs, tspRF, nrand = 0)\n",
    "\n",
    "ax = sc.pl.heatmap(adVal, adVal.var_names.values, groupby='SCN_class', cmap='viridis', dendrogram=False, swap_axes=True)"
   ]
  },
  {
   "cell_type": "code",
   "execution_count": 81,
   "metadata": {
    "colab": {
     "base_uri": "https://localhost:8080/",
     "height": 409
    },
    "id": "TlRTzd0kqzTb",
    "outputId": "1273be2e-521c-4b02-b22e-4b8cf23677a2"
   },
   "outputs": [
    {
     "data": {
      "image/png": "[encoded data removed]",
      "text/plain": [
       "<Figure size 1080x432 with 7 Axes>"
      ]
     },
     "metadata": {
      "needs_background": "light"
     },
     "output_type": "display_data"
    }
   ],
   "source": [
    "assessment =  pySCN.assess_comm(expTrain, adVal, resolution = 0.005, nRand = 0, dLevelSID = \"cell\", classTrain = \"cell_ontology_class\", classQuery = \"cell_ontology_class\")\n",
    "\n",
    "pySCN.plot_PRs(assessment)\n",
    "plt.show()"
   ]
  },
  {
   "cell_type": "code",
   "execution_count": 82,
   "metadata": {
    "colab": {
     "base_uri": "https://localhost:8080/"
    },
    "id": "KPYs7JjAvxyX",
    "outputId": "392db679-9995-4ae9-83f7-a61c90709c52"
   },
   "outputs": [
    {
     "data": {
      "text/plain": [
       "0.9888579387186629"
      ]
     },
     "execution_count": 82,
     "metadata": {},
     "output_type": "execute_result"
    }
   ],
   "source": [
    "assessment ['accuracy']"
   ]
  },
  {
   "cell_type": "code",
   "execution_count": 83,
   "metadata": {
    "colab": {
     "base_uri": "https://localhost:8080/",
     "height": 204
    },
    "id": "4xf4YCx5q462",
    "outputId": "a24e08fb-ad59-4f7b-910a-1d31821285bf"
   },
   "outputs": [
    {
     "data": {
      "image/png": "[encoded data removed]",
      "text/plain": [
       "<Figure size 720x100.08 with 3 Axes>"
      ]
     },
     "metadata": {
      "needs_background": "light"
     },
     "output_type": "display_data"
    }
   ],
   "source": [
    "adIPSCM = pySCN.scn_classify(adQuery, cgenesA, xpairs, tspRF, nrand = 0)\n",
    "\n",
    "ax = sc.pl.heatmap(adIPSCM, adIPSCM.var_names.values, groupby='SCN_class', cmap='viridis', dendrogram=False, swap_axes=True)"
   ]
  },
  {
   "cell_type": "code",
   "execution_count": 84,
   "metadata": {
    "id": "GD_2TdKGuX7j"
   },
   "outputs": [],
   "source": [
    "pySCN.add_classRes(adQuery, adIPSCM)"
   ]
  },
  {
   "cell_type": "code",
   "execution_count": 85,
   "metadata": {
    "colab": {
     "base_uri": "https://localhost:8080/",
     "height": 667
    },
    "id": "_8O9zK3u_ceN",
    "outputId": "9d8cb4e2-5a08-4623-dd6e-6fc913f9898a"
   },
   "outputs": [
    {
     "data": {
      "text/html": [
       "\n",
       "  <div id=\"df-c0a02ba9-7004-4b0c-9d5b-b8f2372154c1\">\n",
       "    <div class=\"colab-df-container\">\n",
       "      <div>\n",
       "<style scoped>\n",
       "    .dataframe tbody tr th:only-of-type {\n",
       "        vertical-align: middle;\n",
       "    }\n",
       "\n",
       "    .dataframe tbody tr th {\n",
       "        vertical-align: top;\n",
       "    }\n",
       "\n",
       "    .dataframe thead th {\n",
       "        text-align: right;\n",
       "    }\n",
       "</style>\n",
       "<table border=\"1\" class=\"dataframe\">\n",
       "  <thead>\n",
       "    <tr style=\"text-align: right;\">\n",
       "      <th></th>\n",
       "      <th>cardiac muscle cell</th>\n",
       "      <th>endocardial cell</th>\n",
       "      <th>endothelial cell</th>\n",
       "      <th>fibroblast</th>\n",
       "      <th>leukocyte</th>\n",
       "      <th>myofibroblast cell</th>\n",
       "      <th>smooth muscle cell</th>\n",
       "      <th>SCN_class</th>\n",
       "    </tr>\n",
       "  </thead>\n",
       "  <tbody>\n",
       "    <tr>\n",
       "      <th>AAACCTGAGCATCATC-1</th>\n",
       "      <td>0.636</td>\n",
       "      <td>0.020</td>\n",
       "      <td>0.144</td>\n",
       "      <td>0.055</td>\n",
       "      <td>0.103</td>\n",
       "      <td>0.030</td>\n",
       "      <td>0.012</td>\n",
       "      <td>cardiac muscle cell</td>\n",
       "    </tr>\n",
       "    <tr>\n",
       "      <th>AAACCTGGTTTCGCTC-1</th>\n",
       "      <td>0.262</td>\n",
       "      <td>0.048</td>\n",
       "      <td>0.177</td>\n",
       "      <td>0.126</td>\n",
       "      <td>0.181</td>\n",
       "      <td>0.169</td>\n",
       "      <td>0.037</td>\n",
       "      <td>cardiac muscle cell</td>\n",
       "    </tr>\n",
       "    <tr>\n",
       "      <th>AAACGGGAGCCGCCTA-1</th>\n",
       "      <td>0.305</td>\n",
       "      <td>0.039</td>\n",
       "      <td>0.232</td>\n",
       "      <td>0.141</td>\n",
       "      <td>0.247</td>\n",
       "      <td>0.032</td>\n",
       "      <td>0.004</td>\n",
       "      <td>cardiac muscle cell</td>\n",
       "    </tr>\n",
       "    <tr>\n",
       "      <th>AAACGGGGTGAAGGCT-1</th>\n",
       "      <td>0.363</td>\n",
       "      <td>0.039</td>\n",
       "      <td>0.196</td>\n",
       "      <td>0.125</td>\n",
       "      <td>0.228</td>\n",
       "      <td>0.040</td>\n",
       "      <td>0.009</td>\n",
       "      <td>cardiac muscle cell</td>\n",
       "    </tr>\n",
       "    <tr>\n",
       "      <th>AAACGGGTCGTCACGG-1</th>\n",
       "      <td>0.528</td>\n",
       "      <td>0.030</td>\n",
       "      <td>0.142</td>\n",
       "      <td>0.092</td>\n",
       "      <td>0.148</td>\n",
       "      <td>0.052</td>\n",
       "      <td>0.008</td>\n",
       "      <td>cardiac muscle cell</td>\n",
       "    </tr>\n",
       "    <tr>\n",
       "      <th>...</th>\n",
       "      <td>...</td>\n",
       "      <td>...</td>\n",
       "      <td>...</td>\n",
       "      <td>...</td>\n",
       "      <td>...</td>\n",
       "      <td>...</td>\n",
       "      <td>...</td>\n",
       "      <td>...</td>\n",
       "    </tr>\n",
       "    <tr>\n",
       "      <th>TTTGGTTGTTTCGCTC-1</th>\n",
       "      <td>0.544</td>\n",
       "      <td>0.031</td>\n",
       "      <td>0.124</td>\n",
       "      <td>0.103</td>\n",
       "      <td>0.140</td>\n",
       "      <td>0.049</td>\n",
       "      <td>0.009</td>\n",
       "      <td>cardiac muscle cell</td>\n",
       "    </tr>\n",
       "    <tr>\n",
       "      <th>TTTGGTTTCCTGTAGA-1</th>\n",
       "      <td>0.212</td>\n",
       "      <td>0.032</td>\n",
       "      <td>0.156</td>\n",
       "      <td>0.157</td>\n",
       "      <td>0.148</td>\n",
       "      <td>0.206</td>\n",
       "      <td>0.089</td>\n",
       "      <td>cardiac muscle cell</td>\n",
       "    </tr>\n",
       "    <tr>\n",
       "      <th>TTTGGTTTCTCTGAGA-1</th>\n",
       "      <td>0.370</td>\n",
       "      <td>0.053</td>\n",
       "      <td>0.199</td>\n",
       "      <td>0.133</td>\n",
       "      <td>0.209</td>\n",
       "      <td>0.034</td>\n",
       "      <td>0.002</td>\n",
       "      <td>cardiac muscle cell</td>\n",
       "    </tr>\n",
       "    <tr>\n",
       "      <th>TTTGGTTTCTGTGCAA-1</th>\n",
       "      <td>0.312</td>\n",
       "      <td>0.061</td>\n",
       "      <td>0.227</td>\n",
       "      <td>0.144</td>\n",
       "      <td>0.207</td>\n",
       "      <td>0.045</td>\n",
       "      <td>0.004</td>\n",
       "      <td>cardiac muscle cell</td>\n",
       "    </tr>\n",
       "    <tr>\n",
       "      <th>TTTGTCATCCTACAGA-1</th>\n",
       "      <td>0.540</td>\n",
       "      <td>0.038</td>\n",
       "      <td>0.142</td>\n",
       "      <td>0.103</td>\n",
       "      <td>0.131</td>\n",
       "      <td>0.039</td>\n",
       "      <td>0.007</td>\n",
       "      <td>cardiac muscle cell</td>\n",
       "    </tr>\n",
       "  </tbody>\n",
       "</table>\n",
       "<p>1518 rows × 8 columns</p>\n",
       "</div>\n",
       "      <button class=\"colab-df-convert\" onclick=\"convertToInteractive('df-c0a02ba9-7004-4b0c-9d5b-b8f2372154c1')\"\n",
       "              title=\"Convert this dataframe to an interactive table.\"\n",
       "              style=\"display:none;\">\n",
       "        \n",
       "  <svg xmlns=\"http://www.w3.org/2000/svg\" height=\"24px\"viewBox=\"0 0 24 24\"\n",
       "       width=\"24px\">\n",
       "    <path d=\"M0 0h24v24H0V0z\" fill=\"none\"/>\n",
       "    <path d=\"M18.56 5.44l.94 2.06.94-2.06 2.06-.94-2.06-.94-.94-2.06-.94 2.06-2.06.94zm-11 1L8.5 8.5l.94-2.06 2.06-.94-2.06-.94L8.5 2.5l-.94 2.06-2.06.94zm10 10l.94 2.06.94-2.06 2.06-.94-2.06-.94-.94-2.06-.94 2.06-2.06.94z\"/><path d=\"M17.41 7.96l-1.37-1.37c-.4-.4-.92-.59-1.43-.59-.52 0-1.04.2-1.43.59L10.3 9.45l-7.72 7.72c-.78.78-.78 2.05 0 2.83L4 21.41c.39.39.9.59 1.41.59.51 0 1.02-.2 1.41-.59l7.78-7.78 2.81-2.81c.8-.78.8-2.07 0-2.86zM5.41 20L4 18.59l7.72-7.72 1.47 1.35L5.41 20z\"/>\n",
       "  </svg>\n",
       "      </button>\n",
       "      \n",
       "  <style>\n",
       "    .colab-df-container {\n",
       "      display:flex;\n",
       "      flex-wrap:wrap;\n",
       "      gap: 12px;\n",
       "    }\n",
       "\n",
       "    .colab-df-convert {\n",
       "      background-color: #E8F0FE;\n",
       "      border: none;\n",
       "      border-radius: 50%;\n",
       "      cursor: pointer;\n",
       "      display: none;\n",
       "      fill: #1967D2;\n",
       "      height: 32px;\n",
       "      padding: 0 0 0 0;\n",
       "      width: 32px;\n",
       "    }\n",
       "\n",
       "    .colab-df-convert:hover {\n",
       "      background-color: #E2EBFA;\n",
       "      box-shadow: 0px 1px 2px rgba(60, 64, 67, 0.3), 0px 1px 3px 1px rgba(60, 64, 67, 0.15);\n",
       "      fill: #174EA6;\n",
       "    }\n",
       "\n",
       "    [theme=dark] .colab-df-convert {\n",
       "      background-color: #3B4455;\n",
       "      fill: #D2E3FC;\n",
       "    }\n",
       "\n",
       "    [theme=dark] .colab-df-convert:hover {\n",
       "      background-color: #434B5C;\n",
       "      box-shadow: 0px 1px 3px 1px rgba(0, 0, 0, 0.15);\n",
       "      filter: drop-shadow(0px 1px 2px rgba(0, 0, 0, 0.3));\n",
       "      fill: #FFFFFF;\n",
       "    }\n",
       "  </style>\n",
       "\n",
       "      <script>\n",
       "        const buttonEl =\n",
       "          document.querySelector('#df-c0a02ba9-7004-4b0c-9d5b-b8f2372154c1 button.colab-df-convert');\n",
       "        buttonEl.style.display =\n",
       "          google.colab.kernel.accessAllowed ? 'block' : 'none';\n",
       "\n",
       "        async function convertToInteractive(key) {\n",
       "          const element = document.querySelector('#df-c0a02ba9-7004-4b0c-9d5b-b8f2372154c1');\n",
       "          const dataTable =\n",
       "            await google.colab.kernel.invokeFunction('convertToInteractive',\n",
       "                                                     [key], {});\n",
       "          if (!dataTable) return;\n",
       "\n",
       "          const docLinkHtml = 'Like what you see? Visit the ' +\n",
       "            '<a target=\"_blank\" href=https://colab.research.google.com/notebooks/data_table.ipynb>data table notebook</a>'\n",
       "            + ' to learn more about interactive tables.';\n",
       "          element.innerHTML = '';\n",
       "          dataTable['output_type'] = 'display_data';\n",
       "          await google.colab.output.renderOutput(dataTable, element);\n",
       "          const docLink = document.createElement('div');\n",
       "          docLink.innerHTML = docLinkHtml;\n",
       "          element.appendChild(docLink);\n",
       "        }\n",
       "      </script>\n",
       "    </div>\n",
       "  </div>\n",
       "  "
      ],
      "text/plain": [
       "                    cardiac muscle cell  endocardial cell  endothelial cell  \\\n",
       "AAACCTGAGCATCATC-1                0.636             0.020             0.144   \n",
       "AAACCTGGTTTCGCTC-1                0.262             0.048             0.177   \n",
       "AAACGGGAGCCGCCTA-1                0.305             0.039             0.232   \n",
       "AAACGGGGTGAAGGCT-1                0.363             0.039             0.196   \n",
       "AAACGGGTCGTCACGG-1                0.528             0.030             0.142   \n",
       "...                                 ...               ...               ...   \n",
       "TTTGGTTGTTTCGCTC-1                0.544             0.031             0.124   \n",
       "TTTGGTTTCCTGTAGA-1                0.212             0.032             0.156   \n",
       "TTTGGTTTCTCTGAGA-1                0.370             0.053             0.199   \n",
       "TTTGGTTTCTGTGCAA-1                0.312             0.061             0.227   \n",
       "TTTGTCATCCTACAGA-1                0.540             0.038             0.142   \n",
       "\n",
       "                    fibroblast  leukocyte  myofibroblast cell  \\\n",
       "AAACCTGAGCATCATC-1       0.055      0.103               0.030   \n",
       "AAACCTGGTTTCGCTC-1       0.126      0.181               0.169   \n",
       "AAACGGGAGCCGCCTA-1       0.141      0.247               0.032   \n",
       "AAACGGGGTGAAGGCT-1       0.125      0.228               0.040   \n",
       "AAACGGGTCGTCACGG-1       0.092      0.148               0.052   \n",
       "...                        ...        ...                 ...   \n",
       "TTTGGTTGTTTCGCTC-1       0.103      0.140               0.049   \n",
       "TTTGGTTTCCTGTAGA-1       0.157      0.148               0.206   \n",
       "TTTGGTTTCTCTGAGA-1       0.133      0.209               0.034   \n",
       "TTTGGTTTCTGTGCAA-1       0.144      0.207               0.045   \n",
       "TTTGTCATCCTACAGA-1       0.103      0.131               0.039   \n",
       "\n",
       "                    smooth muscle cell            SCN_class  \n",
       "AAACCTGAGCATCATC-1               0.012  cardiac muscle cell  \n",
       "AAACCTGGTTTCGCTC-1               0.037  cardiac muscle cell  \n",
       "AAACGGGAGCCGCCTA-1               0.004  cardiac muscle cell  \n",
       "AAACGGGGTGAAGGCT-1               0.009  cardiac muscle cell  \n",
       "AAACGGGTCGTCACGG-1               0.008  cardiac muscle cell  \n",
       "...                                ...                  ...  \n",
       "TTTGGTTGTTTCGCTC-1               0.009  cardiac muscle cell  \n",
       "TTTGGTTTCCTGTAGA-1               0.089  cardiac muscle cell  \n",
       "TTTGGTTTCTCTGAGA-1               0.002  cardiac muscle cell  \n",
       "TTTGGTTTCTGTGCAA-1               0.004  cardiac muscle cell  \n",
       "TTTGTCATCCTACAGA-1               0.007  cardiac muscle cell  \n",
       "\n",
       "[1518 rows x 8 columns]"
      ]
     },
     "execution_count": 85,
     "metadata": {},
     "output_type": "execute_result"
    }
   ],
   "source": [
    "engineered_cardiomyocytes = adQuery[adQuery.obs[\"SCN_class\"] == \"cardiac muscle cell\"]\n",
    "engineered_cardiomyocytes.obs"
   ]
  },
  {
   "cell_type": "code",
   "execution_count": null,
   "metadata": {
    "id": "K7nmO6UR_w6O"
   },
   "outputs": [],
   "source": []
  }
 ],
 "metadata": {
  "colab": {
   "collapsed_sections": [],
   "name": "Project Part4(a).ipynb",
   "provenance": [],
   "toc_visible": true
  },
  "kernelspec": {
   "display_name": "Python 3 (ipykernel)",
   "language": "python",
   "name": "python3"
  },
  "language_info": {
   "codemirror_mode": {
    "name": "ipython",
    "version": 3
   },
   "file_extension": ".py",
   "mimetype": "text/x-python",
   "name": "python",
   "nbconvert_exporter": "python",
   "pygments_lexer": "ipython3",
   "version": "3.7.13"
  }
 },
 "nbformat": 4,
 "nbformat_minor": 1
}

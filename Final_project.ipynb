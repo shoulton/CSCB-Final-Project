{
 "cells": [
  {
   "cell_type": "markdown",
   "id": "a9b1ceb1-9d9e-44ec-b4be-54ff68e64f6f",
   "metadata": {},
   "source": [
    "# Final project"
   ]
  },
  {
   "cell_type": "markdown",
   "id": "f5ca98b0-da50-44b1-a958-ddd70cc74fa5",
   "metadata": {},
   "source": [
    "<b>Teams: </b> 3-4 people \n",
    "\n",
    "<b>Report Due Date: </b> 11:59pm Monday, April 25th (the night before the first set of presentations)"
   ]
  },
  {
   "cell_type": "markdown",
   "id": "3641174d-dfe3-4d8a-bdc9-0723612e8d3f",
   "metadata": {},
   "source": [
    "## Deliverables: \n",
    "\n",
    "1. Folder containing all the code files (no need to include data) used for project. Include a README.txt that briefly describes the functions/purposes of each file and the order you run them in. \n",
    "2. Prepare a report that addresses all the major questions (3 for undergraduate section and 4 for graduate section). The report should be focused on detailing the methods and the exploration of the dataset. Please include labeled figures to better visualize the results and data. \n",
    "3. Prepare a 10-15 minute presentation that summarizes the method used and the results. Include your slides in your submission."
   ]
  },
  {
   "cell_type": "markdown",
   "id": "9bc7e480-3086-4def-8426-b7f3a346eb74",
   "metadata": {},
   "source": [
    "## Introduction: "
   ]
  },
  {
   "cell_type": "markdown",
   "id": "322594e5-2f7c-44ef-86fa-16dfcb01d956",
   "metadata": {},
   "source": [
    "Your collaborators are working on protocols to produce engineered mouse cardiomyocytes (CM) in vitro from fibroblasts. They have generated single-cell RNA-seq data and they are hoping you can help provide detailed hypotheses about the status of their cells and about potential protocol improvements. Their single-cell data are provided in the file folder [direct_conversion_data](https://compstemcellbio.s3.amazonaws.com/2022/final_project/direct_conversion_data_subsampled.zip). These data are in fact from [Stone et al](https://pubmed.ncbi.nlm.nih.gov/31271750/). Batched 1, 2, 3, 4, 5, and 6 represent timepoints -1, 1, 2, 3, 7, and 14. We have subsampled the data to 5,000 cells total, which we hope will simplify analysis for people with less RAM. If you want and you have sufficient computational power, you can also use the entire Stone dataset in [direct_conversion_data_full](https://compstemcellbio.s3.amazonaws.com/2022/final_project/direct_conversion_data_big.zip)."
   ]
  },
  {
   "cell_type": "markdown",
   "id": "2465adde-09d8-4729-bb8f-601aaaa6f3b0",
   "metadata": {},
   "source": [
    "## Major Questions: "
   ]
  },
  {
   "cell_type": "markdown",
   "id": "961dda75-c82f-4692-8514-86b92901b38f",
   "metadata": {},
   "source": [
    "<b>1. How pure are your engineered cardiomyocytes?</b> \n",
    "\n",
    "For estimating the success of engineered cardiomyocyte from Stone et al (similarity of expression profiles to cardiac muscle cells or fibroblast), perform in silico validation of the expression profiles with [reference dataset sampled from Tabula Muris](https://compstemcellbio.s3.amazonaws.com/2022/final_project/TM_FACS_heart.h5ad). Develop a method to perform comparison between the engineered CMs and reference dataset. \n",
    "- You may choose to use [pySCN](https://github.com/pcahan1/PySingleCellNet) to perform the assessment. \n"
   ]
  },
  {
   "cell_type": "code",
   "execution_count": 6,
   "id": "19cbf34c",
   "metadata": {},
   "outputs": [],
   "source": [
    "import scanpy as sc\n",
    "import pySingleCellNet as pySCN\n",
    "import warnings\n",
    "\n",
    "import pandas as pd\n",
    "import matplotlib\n",
    "import matplotlib.pyplot as plt\n",
    "import seaborn as sns \n",
    "import scipy as sp\n",
    "import numpy as np\n",
    "import anndata\n",
    "\n",
    "warnings.filterwarnings('ignore')"
   ]
  },
  {
   "cell_type": "markdown",
   "id": "02e7da92",
   "metadata": {},
   "source": [
    "Read in both reference data and engineered dataset."
   ]
  },
  {
   "cell_type": "code",
   "execution_count": 5,
   "id": "9ff7b30c",
   "metadata": {},
   "outputs": [
    {
     "data": {
      "text/html": [
       "<div>\n",
       "<style scoped>\n",
       "    .dataframe tbody tr th:only-of-type {\n",
       "        vertical-align: middle;\n",
       "    }\n",
       "\n",
       "    .dataframe tbody tr th {\n",
       "        vertical-align: top;\n",
       "    }\n",
       "\n",
       "    .dataframe thead th {\n",
       "        text-align: right;\n",
       "    }\n",
       "</style>\n",
       "<table border=\"1\" class=\"dataframe\">\n",
       "  <thead>\n",
       "    <tr style=\"text-align: right;\">\n",
       "      <th></th>\n",
       "      <th>cell</th>\n",
       "      <th>cell_ontology_class</th>\n",
       "      <th>cell_ontology_id</th>\n",
       "      <th>cluster.ids</th>\n",
       "      <th>mouse.id</th>\n",
       "      <th>mouse.sex</th>\n",
       "      <th>plate.barcode</th>\n",
       "      <th>subtissue</th>\n",
       "      <th>tissue</th>\n",
       "    </tr>\n",
       "    <tr>\n",
       "      <th>cell</th>\n",
       "      <th></th>\n",
       "      <th></th>\n",
       "      <th></th>\n",
       "      <th></th>\n",
       "      <th></th>\n",
       "      <th></th>\n",
       "      <th></th>\n",
       "      <th></th>\n",
       "      <th></th>\n",
       "    </tr>\n",
       "  </thead>\n",
       "  <tbody>\n",
       "    <tr>\n",
       "      <th>A1.B000412.3_56_F.1.1</th>\n",
       "      <td>A1.B000412.3_56_F.1.1</td>\n",
       "      <td>endothelial cell</td>\n",
       "      <td>CL:0000115</td>\n",
       "      <td>2</td>\n",
       "      <td>3_56_F</td>\n",
       "      <td>F</td>\n",
       "      <td>B000412</td>\n",
       "      <td>RA</td>\n",
       "      <td>Heart</td>\n",
       "    </tr>\n",
       "    <tr>\n",
       "      <th>A1.B000633.3_56_F.1.1</th>\n",
       "      <td>A1.B000633.3_56_F.1.1</td>\n",
       "      <td>leukocyte</td>\n",
       "      <td>CL:0000738</td>\n",
       "      <td>4</td>\n",
       "      <td>3_56_F</td>\n",
       "      <td>F</td>\n",
       "      <td>B000633</td>\n",
       "      <td>RV</td>\n",
       "      <td>Heart</td>\n",
       "    </tr>\n",
       "    <tr>\n",
       "      <th>A1.B000634.3_56_F.1.1</th>\n",
       "      <td>A1.B000634.3_56_F.1.1</td>\n",
       "      <td>endothelial cell</td>\n",
       "      <td>CL:0000115</td>\n",
       "      <td>6</td>\n",
       "      <td>3_56_F</td>\n",
       "      <td>F</td>\n",
       "      <td>B000634</td>\n",
       "      <td>LA</td>\n",
       "      <td>Heart</td>\n",
       "    </tr>\n",
       "    <tr>\n",
       "      <th>A1.B002423.3_39_F.1.1</th>\n",
       "      <td>A1.B002423.3_39_F.1.1</td>\n",
       "      <td>fibroblast</td>\n",
       "      <td>CL:0000057</td>\n",
       "      <td>3</td>\n",
       "      <td>3_39_F</td>\n",
       "      <td>F</td>\n",
       "      <td>B002423</td>\n",
       "      <td>RV</td>\n",
       "      <td>Heart</td>\n",
       "    </tr>\n",
       "    <tr>\n",
       "      <th>A1.B002427.3_39_F.1.1</th>\n",
       "      <td>A1.B002427.3_39_F.1.1</td>\n",
       "      <td>myofibroblast cell</td>\n",
       "      <td>CL:0000186</td>\n",
       "      <td>7</td>\n",
       "      <td>3_39_F</td>\n",
       "      <td>F</td>\n",
       "      <td>B002427</td>\n",
       "      <td>LA</td>\n",
       "      <td>Heart</td>\n",
       "    </tr>\n",
       "    <tr>\n",
       "      <th>...</th>\n",
       "      <td>...</td>\n",
       "      <td>...</td>\n",
       "      <td>...</td>\n",
       "      <td>...</td>\n",
       "      <td>...</td>\n",
       "      <td>...</td>\n",
       "      <td>...</td>\n",
       "      <td>...</td>\n",
       "      <td>...</td>\n",
       "    </tr>\n",
       "    <tr>\n",
       "      <th>P9.MAA000586.3_8_M.1.1</th>\n",
       "      <td>P9.MAA000586.3_8_M.1.1</td>\n",
       "      <td>fibroblast</td>\n",
       "      <td>CL:0000057</td>\n",
       "      <td>0</td>\n",
       "      <td>3_8_M</td>\n",
       "      <td>M</td>\n",
       "      <td>MAA000586</td>\n",
       "      <td>RA</td>\n",
       "      <td>Heart</td>\n",
       "    </tr>\n",
       "    <tr>\n",
       "      <th>P9.MAA000587.3_8_M.1.1</th>\n",
       "      <td>P9.MAA000587.3_8_M.1.1</td>\n",
       "      <td>endothelial cell</td>\n",
       "      <td>CL:0000115</td>\n",
       "      <td>2</td>\n",
       "      <td>3_8_M</td>\n",
       "      <td>M</td>\n",
       "      <td>MAA000587</td>\n",
       "      <td>LV</td>\n",
       "      <td>Heart</td>\n",
       "    </tr>\n",
       "    <tr>\n",
       "      <th>P9.MAA000589.3_9_M.1.1</th>\n",
       "      <td>P9.MAA000589.3_9_M.1.1</td>\n",
       "      <td>endothelial cell</td>\n",
       "      <td>CL:0000115</td>\n",
       "      <td>2</td>\n",
       "      <td>3_9_M</td>\n",
       "      <td>M</td>\n",
       "      <td>MAA000589</td>\n",
       "      <td>LV</td>\n",
       "      <td>Heart</td>\n",
       "    </tr>\n",
       "    <tr>\n",
       "      <th>P9.MAA000903.3_11_M.1.1</th>\n",
       "      <td>P9.MAA000903.3_11_M.1.1</td>\n",
       "      <td>fibroblast</td>\n",
       "      <td>CL:0000057</td>\n",
       "      <td>0</td>\n",
       "      <td>3_11_M</td>\n",
       "      <td>M</td>\n",
       "      <td>MAA000903</td>\n",
       "      <td>RA</td>\n",
       "      <td>Heart</td>\n",
       "    </tr>\n",
       "    <tr>\n",
       "      <th>P9.MAA000936.3_9_M.1.1</th>\n",
       "      <td>P9.MAA000936.3_9_M.1.1</td>\n",
       "      <td>endothelial cell</td>\n",
       "      <td>CL:0000115</td>\n",
       "      <td>5</td>\n",
       "      <td>3_9_M</td>\n",
       "      <td>M</td>\n",
       "      <td>MAA000936</td>\n",
       "      <td>RA</td>\n",
       "      <td>Heart</td>\n",
       "    </tr>\n",
       "  </tbody>\n",
       "</table>\n",
       "<p>4337 rows × 9 columns</p>\n",
       "</div>"
      ],
      "text/plain": [
       "                                            cell cell_ontology_class  \\\n",
       "cell                                                                   \n",
       "A1.B000412.3_56_F.1.1      A1.B000412.3_56_F.1.1    endothelial cell   \n",
       "A1.B000633.3_56_F.1.1      A1.B000633.3_56_F.1.1           leukocyte   \n",
       "A1.B000634.3_56_F.1.1      A1.B000634.3_56_F.1.1    endothelial cell   \n",
       "A1.B002423.3_39_F.1.1      A1.B002423.3_39_F.1.1          fibroblast   \n",
       "A1.B002427.3_39_F.1.1      A1.B002427.3_39_F.1.1  myofibroblast cell   \n",
       "...                                          ...                 ...   \n",
       "P9.MAA000586.3_8_M.1.1    P9.MAA000586.3_8_M.1.1          fibroblast   \n",
       "P9.MAA000587.3_8_M.1.1    P9.MAA000587.3_8_M.1.1    endothelial cell   \n",
       "P9.MAA000589.3_9_M.1.1    P9.MAA000589.3_9_M.1.1    endothelial cell   \n",
       "P9.MAA000903.3_11_M.1.1  P9.MAA000903.3_11_M.1.1          fibroblast   \n",
       "P9.MAA000936.3_9_M.1.1    P9.MAA000936.3_9_M.1.1    endothelial cell   \n",
       "\n",
       "                        cell_ontology_id  cluster.ids mouse.id mouse.sex  \\\n",
       "cell                                                                       \n",
       "A1.B000412.3_56_F.1.1         CL:0000115            2   3_56_F         F   \n",
       "A1.B000633.3_56_F.1.1         CL:0000738            4   3_56_F         F   \n",
       "A1.B000634.3_56_F.1.1         CL:0000115            6   3_56_F         F   \n",
       "A1.B002423.3_39_F.1.1         CL:0000057            3   3_39_F         F   \n",
       "A1.B002427.3_39_F.1.1         CL:0000186            7   3_39_F         F   \n",
       "...                                  ...          ...      ...       ...   \n",
       "P9.MAA000586.3_8_M.1.1        CL:0000057            0    3_8_M         M   \n",
       "P9.MAA000587.3_8_M.1.1        CL:0000115            2    3_8_M         M   \n",
       "P9.MAA000589.3_9_M.1.1        CL:0000115            2    3_9_M         M   \n",
       "P9.MAA000903.3_11_M.1.1       CL:0000057            0   3_11_M         M   \n",
       "P9.MAA000936.3_9_M.1.1        CL:0000115            5    3_9_M         M   \n",
       "\n",
       "                        plate.barcode subtissue tissue  \n",
       "cell                                                    \n",
       "A1.B000412.3_56_F.1.1         B000412        RA  Heart  \n",
       "A1.B000633.3_56_F.1.1         B000633        RV  Heart  \n",
       "A1.B000634.3_56_F.1.1         B000634        LA  Heart  \n",
       "A1.B002423.3_39_F.1.1         B002423        RV  Heart  \n",
       "A1.B002427.3_39_F.1.1         B002427        LA  Heart  \n",
       "...                               ...       ...    ...  \n",
       "P9.MAA000586.3_8_M.1.1      MAA000586        RA  Heart  \n",
       "P9.MAA000587.3_8_M.1.1      MAA000587        LV  Heart  \n",
       "P9.MAA000589.3_9_M.1.1      MAA000589        LV  Heart  \n",
       "P9.MAA000903.3_11_M.1.1     MAA000903        RA  Heart  \n",
       "P9.MAA000936.3_9_M.1.1      MAA000936        RA  Heart  \n",
       "\n",
       "[4337 rows x 9 columns]"
      ]
     },
     "execution_count": 5,
     "metadata": {},
     "output_type": "execute_result"
    }
   ],
   "source": [
    "reference_data = sc.read_h5ad('TM_FACS_heart.h5ad')\n",
    "reference_data.obs"
   ]
  },
  {
   "cell_type": "code",
   "execution_count": 8,
   "id": "5d3f6482",
   "metadata": {},
   "outputs": [
    {
     "data": {
      "text/html": [
       "<div>\n",
       "<style scoped>\n",
       "    .dataframe tbody tr th:only-of-type {\n",
       "        vertical-align: middle;\n",
       "    }\n",
       "\n",
       "    .dataframe tbody tr th {\n",
       "        vertical-align: top;\n",
       "    }\n",
       "\n",
       "    .dataframe thead th {\n",
       "        text-align: right;\n",
       "    }\n",
       "</style>\n",
       "<table border=\"1\" class=\"dataframe\">\n",
       "  <thead>\n",
       "    <tr style=\"text-align: right;\">\n",
       "      <th></th>\n",
       "      <th>batch</th>\n",
       "      <th>n_genes_by_counts</th>\n",
       "      <th>log1p_n_genes_by_counts</th>\n",
       "      <th>total_counts</th>\n",
       "      <th>log1p_total_counts</th>\n",
       "      <th>pct_counts_in_top_50_genes</th>\n",
       "      <th>pct_counts_in_top_100_genes</th>\n",
       "      <th>pct_counts_in_top_200_genes</th>\n",
       "      <th>pct_counts_in_top_500_genes</th>\n",
       "    </tr>\n",
       "  </thead>\n",
       "  <tbody>\n",
       "    <tr>\n",
       "      <th>CGTTCTGTCATGCAAC-6</th>\n",
       "      <td>6</td>\n",
       "      <td>2990</td>\n",
       "      <td>8.003363</td>\n",
       "      <td>3192.841064</td>\n",
       "      <td>8.068979</td>\n",
       "      <td>6.108015</td>\n",
       "      <td>10.882674</td>\n",
       "      <td>18.767330</td>\n",
       "      <td>35.987287</td>\n",
       "    </tr>\n",
       "    <tr>\n",
       "      <th>TGAGCATGTCAGCTAT-5</th>\n",
       "      <td>5</td>\n",
       "      <td>3870</td>\n",
       "      <td>8.261268</td>\n",
       "      <td>3512.800781</td>\n",
       "      <td>8.164454</td>\n",
       "      <td>5.617473</td>\n",
       "      <td>10.030278</td>\n",
       "      <td>17.173657</td>\n",
       "      <td>32.631337</td>\n",
       "    </tr>\n",
       "    <tr>\n",
       "      <th>ATTGGTGGTGAGTGAC-2</th>\n",
       "      <td>2</td>\n",
       "      <td>2812</td>\n",
       "      <td>7.942007</td>\n",
       "      <td>3338.887695</td>\n",
       "      <td>8.113692</td>\n",
       "      <td>5.836763</td>\n",
       "      <td>10.565874</td>\n",
       "      <td>18.245293</td>\n",
       "      <td>35.495059</td>\n",
       "    </tr>\n",
       "    <tr>\n",
       "      <th>AACCATGGTACAAGTA-4</th>\n",
       "      <td>4</td>\n",
       "      <td>3133</td>\n",
       "      <td>8.050065</td>\n",
       "      <td>3337.686523</td>\n",
       "      <td>8.113333</td>\n",
       "      <td>6.015414</td>\n",
       "      <td>10.855748</td>\n",
       "      <td>18.416691</td>\n",
       "      <td>34.596811</td>\n",
       "    </tr>\n",
       "    <tr>\n",
       "      <th>GATCTAGAGATGCGAC-1</th>\n",
       "      <td>1</td>\n",
       "      <td>2981</td>\n",
       "      <td>8.000349</td>\n",
       "      <td>3419.704102</td>\n",
       "      <td>8.137602</td>\n",
       "      <td>5.728593</td>\n",
       "      <td>10.305606</td>\n",
       "      <td>17.683025</td>\n",
       "      <td>33.999350</td>\n",
       "    </tr>\n",
       "    <tr>\n",
       "      <th>...</th>\n",
       "      <td>...</td>\n",
       "      <td>...</td>\n",
       "      <td>...</td>\n",
       "      <td>...</td>\n",
       "      <td>...</td>\n",
       "      <td>...</td>\n",
       "      <td>...</td>\n",
       "      <td>...</td>\n",
       "      <td>...</td>\n",
       "    </tr>\n",
       "    <tr>\n",
       "      <th>GCAGCCACATTGGTAC-4</th>\n",
       "      <td>4</td>\n",
       "      <td>2700</td>\n",
       "      <td>7.901377</td>\n",
       "      <td>3137.520020</td>\n",
       "      <td>8.051507</td>\n",
       "      <td>6.345720</td>\n",
       "      <td>11.370976</td>\n",
       "      <td>19.371425</td>\n",
       "      <td>37.041649</td>\n",
       "    </tr>\n",
       "    <tr>\n",
       "      <th>CATTCGCAGATCCTGT-3</th>\n",
       "      <td>3</td>\n",
       "      <td>2883</td>\n",
       "      <td>7.966933</td>\n",
       "      <td>3053.349121</td>\n",
       "      <td>8.024322</td>\n",
       "      <td>6.859597</td>\n",
       "      <td>12.217943</td>\n",
       "      <td>20.269529</td>\n",
       "      <td>37.052554</td>\n",
       "    </tr>\n",
       "    <tr>\n",
       "      <th>CATCGGGGTCTCATCC-4</th>\n",
       "      <td>4</td>\n",
       "      <td>2295</td>\n",
       "      <td>7.738924</td>\n",
       "      <td>3250.425049</td>\n",
       "      <td>8.086848</td>\n",
       "      <td>5.832202</td>\n",
       "      <td>10.691060</td>\n",
       "      <td>18.643549</td>\n",
       "      <td>37.042548</td>\n",
       "    </tr>\n",
       "    <tr>\n",
       "      <th>GTTCTCGAGAGAACAG-4</th>\n",
       "      <td>4</td>\n",
       "      <td>3279</td>\n",
       "      <td>8.095599</td>\n",
       "      <td>3235.456055</td>\n",
       "      <td>8.082234</td>\n",
       "      <td>6.281128</td>\n",
       "      <td>11.342767</td>\n",
       "      <td>19.114254</td>\n",
       "      <td>35.246593</td>\n",
       "    </tr>\n",
       "    <tr>\n",
       "      <th>GACTAACCATCGGTTA-3</th>\n",
       "      <td>3</td>\n",
       "      <td>3901</td>\n",
       "      <td>8.269245</td>\n",
       "      <td>3529.958984</td>\n",
       "      <td>8.169325</td>\n",
       "      <td>5.628947</td>\n",
       "      <td>10.154885</td>\n",
       "      <td>17.241571</td>\n",
       "      <td>32.476818</td>\n",
       "    </tr>\n",
       "  </tbody>\n",
       "</table>\n",
       "<p>5000 rows × 9 columns</p>\n",
       "</div>"
      ],
      "text/plain": [
       "                   batch  n_genes_by_counts  log1p_n_genes_by_counts  \\\n",
       "CGTTCTGTCATGCAAC-6     6               2990                 8.003363   \n",
       "TGAGCATGTCAGCTAT-5     5               3870                 8.261268   \n",
       "ATTGGTGGTGAGTGAC-2     2               2812                 7.942007   \n",
       "AACCATGGTACAAGTA-4     4               3133                 8.050065   \n",
       "GATCTAGAGATGCGAC-1     1               2981                 8.000349   \n",
       "...                  ...                ...                      ...   \n",
       "GCAGCCACATTGGTAC-4     4               2700                 7.901377   \n",
       "CATTCGCAGATCCTGT-3     3               2883                 7.966933   \n",
       "CATCGGGGTCTCATCC-4     4               2295                 7.738924   \n",
       "GTTCTCGAGAGAACAG-4     4               3279                 8.095599   \n",
       "GACTAACCATCGGTTA-3     3               3901                 8.269245   \n",
       "\n",
       "                    total_counts  log1p_total_counts  \\\n",
       "CGTTCTGTCATGCAAC-6   3192.841064            8.068979   \n",
       "TGAGCATGTCAGCTAT-5   3512.800781            8.164454   \n",
       "ATTGGTGGTGAGTGAC-2   3338.887695            8.113692   \n",
       "AACCATGGTACAAGTA-4   3337.686523            8.113333   \n",
       "GATCTAGAGATGCGAC-1   3419.704102            8.137602   \n",
       "...                          ...                 ...   \n",
       "GCAGCCACATTGGTAC-4   3137.520020            8.051507   \n",
       "CATTCGCAGATCCTGT-3   3053.349121            8.024322   \n",
       "CATCGGGGTCTCATCC-4   3250.425049            8.086848   \n",
       "GTTCTCGAGAGAACAG-4   3235.456055            8.082234   \n",
       "GACTAACCATCGGTTA-3   3529.958984            8.169325   \n",
       "\n",
       "                    pct_counts_in_top_50_genes  pct_counts_in_top_100_genes  \\\n",
       "CGTTCTGTCATGCAAC-6                    6.108015                    10.882674   \n",
       "TGAGCATGTCAGCTAT-5                    5.617473                    10.030278   \n",
       "ATTGGTGGTGAGTGAC-2                    5.836763                    10.565874   \n",
       "AACCATGGTACAAGTA-4                    6.015414                    10.855748   \n",
       "GATCTAGAGATGCGAC-1                    5.728593                    10.305606   \n",
       "...                                        ...                          ...   \n",
       "GCAGCCACATTGGTAC-4                    6.345720                    11.370976   \n",
       "CATTCGCAGATCCTGT-3                    6.859597                    12.217943   \n",
       "CATCGGGGTCTCATCC-4                    5.832202                    10.691060   \n",
       "GTTCTCGAGAGAACAG-4                    6.281128                    11.342767   \n",
       "GACTAACCATCGGTTA-3                    5.628947                    10.154885   \n",
       "\n",
       "                    pct_counts_in_top_200_genes  pct_counts_in_top_500_genes  \n",
       "CGTTCTGTCATGCAAC-6                    18.767330                    35.987287  \n",
       "TGAGCATGTCAGCTAT-5                    17.173657                    32.631337  \n",
       "ATTGGTGGTGAGTGAC-2                    18.245293                    35.495059  \n",
       "AACCATGGTACAAGTA-4                    18.416691                    34.596811  \n",
       "GATCTAGAGATGCGAC-1                    17.683025                    33.999350  \n",
       "...                                         ...                          ...  \n",
       "GCAGCCACATTGGTAC-4                    19.371425                    37.041649  \n",
       "CATTCGCAGATCCTGT-3                    20.269529                    37.052554  \n",
       "CATCGGGGTCTCATCC-4                    18.643549                    37.042548  \n",
       "GTTCTCGAGAGAACAG-4                    19.114254                    35.246593  \n",
       "GACTAACCATCGGTTA-3                    17.241571                    32.476818  \n",
       "\n",
       "[5000 rows x 9 columns]"
      ]
     },
     "execution_count": 8,
     "metadata": {},
     "output_type": "execute_result"
    }
   ],
   "source": [
    "adata = sc.read_h5ad(\"direct_conversion_subsampled_5k.h5ad\")\n",
    "adata.obs"
   ]
  },
  {
   "cell_type": "markdown",
   "id": "1515034b",
   "metadata": {},
   "source": [
    "Split reference dataset into testing and training so that we are able to validate the model before we apply it to the engineered cardiomyocyte data."
   ]
  },
  {
   "cell_type": "code",
   "execution_count": 11,
   "id": "a9b4f296",
   "metadata": {},
   "outputs": [
    {
     "name": "stdout",
     "output_type": "stream",
     "text": [
      "leukocyte : \n",
      "523\n",
      "endocardial cell : \n",
      "165\n",
      "fibroblast : \n",
      "2119\n",
      "cardiac muscle cell : \n",
      "133\n",
      "endothelial cell : \n",
      "1177\n",
      "myofibroblast cell : \n",
      "178\n",
      "smooth muscle cell : \n",
      "42\n"
     ]
    }
   ],
   "source": [
    "expTrain, expVal = pySCN.splitCommonAnnData(reference_data, ncells=200,dLevel=\"cell_ontology_class\")"
   ]
  },
  {
   "cell_type": "markdown",
   "id": "3d11a784",
   "metadata": {},
   "source": [
    "Train our model on the reference training set."
   ]
  },
  {
   "cell_type": "code",
   "execution_count": 12,
   "id": "a484d112",
   "metadata": {},
   "outputs": [
    {
     "name": "stdout",
     "output_type": "stream",
     "text": [
      "HVG\n",
      "Matrix normalized\n",
      "There are  763  classification genes\n",
      "\n",
      "cardiac muscle cell\n",
      "endocardial cell\n",
      "endothelial cell\n",
      "fibroblast\n",
      "leukocyte\n",
      "myofibroblast cell\n",
      "smooth muscle cell\n",
      "There are 692 top gene pairs\n",
      "\n",
      "Finished pair transforming the data\n",
      "\n"
     ]
    }
   ],
   "source": [
    "[cgenesA, xpairs, tspRF] = pySCN.scn_train(expTrain, nTopGenes = 100, nRand = 100, nTrees = 1000 ,nTopGenePairs = 100, dLevel = \"cell_ontology_class\", stratify=True, limitToHVG=True)"
   ]
  },
  {
   "cell_type": "markdown",
   "id": "c3417fd4",
   "metadata": {},
   "source": [
    "Validate our model with our testing set."
   ]
  },
  {
   "cell_type": "code",
   "execution_count": 15,
   "id": "2a5da25b",
   "metadata": {},
   "outputs": [
    {
     "data": {
      "image/png": "[encoded data removed]",
      "text/plain": [
       "<Figure size 720x113.04 with 3 Axes>"
      ]
     },
     "metadata": {
      "needs_background": "light"
     },
     "output_type": "display_data"
    }
   ],
   "source": [
    "adVal = pySCN.scn_classify(expVal, cgenesA, xpairs, tspRF, nrand = 0)\n",
    "\n",
    "ax = sc.pl.heatmap(adVal, adVal.var_names.values, groupby='SCN_class', cmap='viridis', dendrogram=False, swap_axes=True)"
   ]
  },
  {
   "cell_type": "code",
   "execution_count": 16,
   "id": "52a68773",
   "metadata": {},
   "outputs": [
    {
     "data": {
      "image/png": "[encoded data removed]",
      "text/plain": [
       "<Figure size 1080x432 with 7 Axes>"
      ]
     },
     "metadata": {
      "needs_background": "light"
     },
     "output_type": "display_data"
    }
   ],
   "source": [
    "assessment =  pySCN.assess_comm(expTrain, adVal, resolution = 0.005, nRand = 0, dLevelSID = \"cell\", classTrain = \"cell_ontology_class\", classQuery = \"cell_ontology_class\")\n",
    "\n",
    "pySCN.plot_PRs(assessment)\n",
    "plt.show()"
   ]
  },
  {
   "cell_type": "code",
   "execution_count": 17,
   "id": "35c25f5f",
   "metadata": {},
   "outputs": [
    {
     "data": {
      "image/png": "[encoded data removed]",
      "text/plain": [
       "<Figure size 720x113.04 with 3 Axes>"
      ]
     },
     "metadata": {
      "needs_background": "light"
     },
     "output_type": "display_data"
    }
   ],
   "source": [
    "adCardiomyocyte = pySCN.scn_classify(adata, cgenesA, xpairs, tspRF, nrand = 0)\n",
    "\n",
    "ax = sc.pl.heatmap(adCardiomyocyte, adCardiomyocyte.var_names.values, groupby='SCN_class', cmap='viridis', dendrogram=False, swap_axes=True)"
   ]

  },
  {
   "cell_type": "markdown",
   "id": "59ce6a82-5f3b-4aae-a4dc-81c4e9aefc06",
   "metadata": {},
   "source": [
    "<b> 2. How mature are your engineered cardiomyocytes? </b>\n",
    "\n",
    "Heart is one of the earliest organs to develop during embryogenesis. In mice, as early as embryonic day E7.0-7.5, convergence of lateral mesoderm domain called first heart field begins to beat. Cardiomyocytes rapidly proliferate up until E14, and then start maturation after. "
   ]
  },
  {
   "cell_type": "markdown",
   "id": "4015bec1-47b4-43cf-8729-b7206a8cf0b7",
   "metadata": {},
   "source": [
    "<figure>\n",
    "    <img src=\"img/in_vivo_cardiomyocyte.png\" width=500>\n",
    "    <figcaption>Conceptual scheme of maturation phase of heart development. <a href=\"https://www.ahajournals.org/doi/10.1161/CIRCRESAHA.119.315862\">Guo et al, 2020</a>\n",
    "                                                                                                                         \n",
    "</figcaption>\n",
    "</figure>"
   ]
  },
  {
   "cell_type": "markdown",
   "id": "87b178aa-ab17-4d9b-b86e-d792ea1e7de5",
   "metadata": {},
   "source": [
    "Some of the major hallmarks of cardiomyocyte maturation include cell cycle arrest, multinucleation, growth by hypertrophy, transition to oxidative metabolism, and expression of mature sarcomeric contractile protein isoforms. [Padula et al, 2021](https://www.ncbi.nlm.nih.gov/pmc/articles/PMC8004589/) provides a review of the transcriptional regulations of cardiomyocyte maturation and the TF genes associated with CM maturation phenotypes.\n",
    "\n",
    "To computationally estimate the maturity of engineered CM’s across different data sources, [Kannan et al](https://journals.plos.org/ploscompbiol/article/authors?id=10.1371/journal.pcbi.1009305) constructed a reference scRNA-seq resource for CM maturation by isolating CM cells from Myh6-Cre; mTmG (aMHC x mTmG) mice across 12 time points of CM maturation. "
   ]
  },
  {
   "cell_type": "markdown",
   "id": "3726b2d2-5d1f-444a-98ee-e16f05af9eee",
   "metadata": {},
   "source": [
    "\n",
    "<figure>\n",
    "    <img src=\"img/postnatal_CM_maturation.png\" width=600>\n",
    "    <figcaption>A. Mouse model used to generate perinatal maturation reference scRNA-seq dataset. B. UMAP of maturation reference dataset. <a href=\"https://journals.plos.org/ploscompbiol/article?id=10.1371/journal.pcbi.1009305\">Kannan et al, 2021</a>\n",
    "                                                                                                                         \n",
    "</figcaption>\n",
    "</figure>"
   ]
  },
  {
   "cell_type": "markdown",
   "id": "daf058ac-6fc3-479f-b7b7-2d394662a972",
   "metadata": {},
   "source": [
    "Kannan et al have provided a detailed protocol accompanied by software and extensive meta-analysis and validation for their entropy based method. Apply the protocol of Kannan et al. or use some other method to determine the maturation time point that the engineered CMs are most similar to using the [perinatal_reference_data](https://compstemcellbio.s3.amazonaws.com/2022/final_project/perinatal_reference_data.zip). As Kannan et al. do, you should only select the cells that were classified as cardiomyocyte in the previous steps. "
   ]
  },
  {
   "cell_type": "markdown",
   "id": "5d26956e-9748-44d7-ab7b-77dd5e7a172b",
   "metadata": {},
   "source": [
    "<b>3. What genetic alterations could improve your engineered cardiomyocytes?</b>\n",
    "\n",
    "Estimating maturity is useful as a metric, but it does not provide an immediate path forward in the form of specific hypotheses for how to improve the engineered CMs. Your collaborators want to identify candidate TFs that they could overexpress or knock out to further enhance differentiation. Set up an in silico screen with CellOracle. The essential components are:\n",
    "1. A training dataset. To ensure relevant cell types are represented, we recommend the in vivo perinatal CM development timecourse from Kannan et al., available in file folder [perinatal_reference_data](https://compstemcellbio.s3.amazonaws.com/2022/final_project/perinatal_reference_data.zip). \n",
    "\n",
    "2. An evaluation dataset. How well do CellOracle’s predicted fold changes correspond to what would actually happen? You can test this using a cardiomyocyte-specific knockout of the transcription factor Prdm16, which was assayed with scRNA-seq at embryonic day 13.5 in figure 6 of [Wu et al. 2022.](https://pubmed.ncbi.nlm.nih.gov/34915728/). These data have been downsampled to 5,000 barcodes and are available in the [wu_prdm16 folder](https://compstemcellbio.s3.amazonaws.com/2022/final_project/wu_prdm16.zip). There are two biological replicates each of control and knockout samples.\n",
    "\n",
    "3. A base GRN. To obtain better performance across a wider range of testable perturbations, compare three options for the base network: completely dense (all possible connections), CellOracle’s default, and a custom base network derived from motif analysis of the ATAC-seq data in Figure 3 of Stone et al, available in <b>direct_conversion_data/GSE130806_Bulk_Atac_Count_Data.bed</b>. As controls, also include randomly generated networks matching the density of the motif-derived networks. There is a tutorial on motif analysis for CellOracle [here](https://morris-lab.github.io/CellOracle.documentation/notebooks/01_ATAC-seq_data_processing/option2_Bulk_ATAC-seq_data/01_preprocess_Bulk_ATAC_seq_peak_data.html). If your team has 4 or fewer members, you can skip this item. Just use the default base GRN provided with CellOracle. \n",
    "\n",
    "4. A summary metric. Though it’s very useful to have per-gene fold change predictions, they are hard to understand and hard to rank by usefulness. Develop a method to rank the predicted transcriptomes by how useful the perturbations will be for engineering cardiomyocytes.\n",
    "    - Look at what TF perturbation would drive the maturation of cardiomyocytes and whether or not it would specifically be beneficial to drive the maturation of cells from directed conversion experiment."
   ]
  },
  {
   "cell_type": "markdown",
   "id": "9a727b3b-e79f-49e0-9854-250827f173b4",
   "metadata": {},
   "source": [
    "## Major Questions (Graduate Section Only): "
   ]
  },
  {
   "cell_type": "markdown",
   "id": "bc4dd058-c286-4ae2-b8cf-50f4d2e8c7e7",
   "metadata": {},
   "source": [
    "### Option 1: "
   ]
  },
  {
   "cell_type": "markdown",
   "id": "85d8b24b-78e2-435c-a1b7-ae895cd477f3",
   "metadata": {},
   "source": [
    "<b>What non-genetic cues might improve you engineered cardiomyocytes?</b>\n",
    "\n",
    "Aside from overexpressing transcription factors, another method of optimizing cell fate engineering is to use drug compounds or morphogens that target signaling pathways with important roles in embryonic development. (Box 1 gives some context on morphogens.) Modify or repurpose CellOracle to allow predictions of transcriptomic changes due to activation or repression of signaling pathways. Ideally, any new method of this sort would be tested on a prediction task relevant to in vitro directed differentiation. One potential test dataset is [this screen of 320 FDA-approved drugs for maturation of mouse colon organoids](https://www.sciencedirect.com/science/article/pii/S2211124721003405), available in the [compound_screening folder](https://compstemcellbio.s3.amazonaws.com/2022/final_project/compound_screen.zip). In each sample, the full transcriptome is not measured, but roughly 200 genes are measured, which provides enough information to test detailed predictions from an extension of CellOracle. If your solution would benefit from a full-transcriptome intestinal organoid dataset, we suggest the mouse intestinal organoid scRNA-seq dataset from [Grün et al. 2015](https://www.nature.com/articles/nature14966), which uses the same protocol to culture organoids. This dataset is available in the [grun_organoids folder](https://compstemcellbio.s3.amazonaws.com/2022/final_project/grun_organoids.zip).\n"
   ]
  },
  {
   "cell_type": "markdown",
   "id": "00975916-fedb-4359-99a6-6b217c9dd3de",
   "metadata": {},
   "source": [
    "***"
   ]
  },
  {
   "cell_type": "markdown",
   "id": "e382ce83-f5bf-4e15-8bea-a464c8ad9f7a",
   "metadata": {},
   "source": [
    "<b>Box 1: Morphogens.</b> Morphogens are diffusible signals that play a role in patterning of tissues and organs during development. One example of a morphogen is Sonic HedgeHog (SHH). It is a soluble protein. It is important in dorsoventral patterning of vertebrate embryos. During formation of the spinal cord, a flat layer of ectoderm folds inward to form a tube. SHH is secreted from a plate of cells on the innermost side of the tube. It diffuses towards the outermost side. As it reaches the cells that will respond to it, it interacts with membrane-bound protein complexes. Through a moderately complicated series of events, it eventually activates transcription factors from the Gli family. Depending on the dose, different target genes are activated. These target genes repress each others’ expression, giving rise to sharp boundaries between discrete zones with distinct transcriptional profiles. These boundaries remain stable when SHH is removed; the cells are committed to their respective fates. Morphogens provide similar spatial cues throughout development of diverse body structures in diverse organisms. "
   ]
  },
  {
   "cell_type": "markdown",
   "id": "be22fa72-b710-4adc-a85a-db8dd5f400bb",
   "metadata": {},
   "source": [
    "<b>Morphogen diversity.</b> Morphogens can be soluble proteins like SHH. They can also be small molecules. An example of a natural small-molecule morphogen is retinoic acid, and an example of a natural small-molecule inhibitor of SHH is cyclopamine. (Cyclopamine occurs in plants as a poison, helping defend against herbivorous animals.) Morphogens are often discussed in terms of “pathways”, which describe how the signal reaches the nucleus starting from outside the cell. Other examples of morphogen pathways are Notch, Wnt, bone morphogenic protein (BMP), and transforming growth factor beta (TGF-beta). Each of these has distinct roles, mechanisms, and quirks. There is a surprisingly small collection of pathways that are re-used in many contexts during development of animals with bilateral symmetry. These receive special attention in stem cell biology. But, it is also possible to screen drugs or compounds with no known role in development; they may still prove useful in directed differentiation protocols."
   ]
  },
  {
   "cell_type": "markdown",
   "id": "d3328188-0edb-404d-84c2-b12cb6ba2da9",
   "metadata": {},
   "source": [
    "<figure>\n",
    "    <img src=\"img/morphogen_image1.png\" width=300>\n",
    "    <figcaption>Difference classes of spinal neurons are patterned by different doses of SHH over a fairly short (<24hr) time interval. Image credit: https://cshperspectives.cshlp.org/content/1/2/a002014/F2.expansion.html\n",
    "                                                                                                                         \n",
    "</figcaption>\n",
    "</figure>"
   ]
  },
  {
   "cell_type": "markdown",
   "id": "46bd63a0-9e39-488f-81c7-857e3670d994",
   "metadata": {},
   "source": [
    "<figure>\n",
    "    <img src=\"img/morphogen_image2.png\" width=300>\n",
    "    <figcaption>How the SHH signal is transduced into the nucleus to alter transcription. \n",
    "\n",
    "Image credit: https://www.frontiersin.org/articles/10.3389/fmolb.2021.711710/full\n",
    "\n",
    "</figcaption>\n",
    "</figure>"
   ]
  },
  {
   "cell_type": "markdown",
   "id": "873023c7-5752-4ae9-a9e6-5da7f27121d2",
   "metadata": {},
   "source": [
    "***"
   ]
  },
  {
   "cell_type": "markdown",
   "id": "d1902826-db2b-455c-b87c-83e8ba0a15ca",
   "metadata": {},
   "source": [
    "### Option 2: \n",
    "\n",
    "<b>How can your computational methods be translated to help engineer human cardiomyocytes? </b>\n",
    "\n",
    "Questions 1-3 focus on mouse cells, but your collaborators are ultimately interested in translational and medical research, so they need human CM’s. They have generated preliminary data on directed differentiation of human cells, available in [human_engineered_cardiomyocytes](https://compstemcellbio.s3.amazonaws.com/2022/final_project/human_engineered_cardiomyocytes.zip) (in fact, these data are from [Giacomelli et al.](https://www.cell.com/cell-stem-cell/fulltext/S1934-5909(20)30202-2)). Apply the same assessment and TF screening methods to human iPSCs."
   ]
  }
 ],
 "metadata": {
  "kernelspec": {
   "display_name": "Python 3 (ipykernel)",
   "language": "python",
   "name": "python3"
  },
  "language_info": {
   "codemirror_mode": {
    "name": "ipython",
    "version": 3
   },
   "file_extension": ".py",
   "mimetype": "text/x-python",
   "name": "python",
   "nbconvert_exporter": "python",
   "pygments_lexer": "ipython3",
   "version": "3.7.13"
  }
 },
 "nbformat": 4,
 "nbformat_minor": 5
}
